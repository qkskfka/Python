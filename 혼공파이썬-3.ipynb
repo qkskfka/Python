{
 "cells": [
  {
   "cell_type": "markdown",
   "id": "98735919",
   "metadata": {},
   "source": [
    "# 04-3장 확인문제"
   ]
  },
  {
   "cell_type": "code",
   "execution_count": 1,
   "id": "632782cd",
   "metadata": {},
   "outputs": [
    {
     "name": "stdout",
     "output_type": "stream",
     "text": [
      "{'name': '기사', 'hp': 200, 'mp': 30, 'level': 5}\n"
     ]
    }
   ],
   "source": [
    "key_list = [\"name\", \"hp\", \"mp\", \"level\"]\n",
    "value_list = [\"기사\", 200, 30, 5]\n",
    "char = {}\n",
    "for i in range(0, len(key_list)):\n",
    "    char[key_list[i]] = value_list[i]\n",
    "print(char)"
   ]
  },
  {
   "cell_type": "code",
   "execution_count": 2,
   "id": "ba5635d2",
   "metadata": {},
   "outputs": [
    {
     "name": "stdout",
     "output_type": "stream",
     "text": [
      "142를 더할 때 10000 넘으며 그때의 값은 10011입니다.\n"
     ]
    }
   ],
   "source": [
    "limit = 10000\n",
    "i = 1\n",
    "\n",
    "sum_value = 0\n",
    "while sum_value < limit:\n",
    "    sum_value += i\n",
    "    i += 1\n",
    "print(\"{}를 더할 때 {} 넘으며 그때의 값은 {}입니다.\".format(i, limit, sum_value ) )"
   ]
  },
  {
   "cell_type": "code",
   "execution_count": 3,
   "id": "22aa6846",
   "metadata": {},
   "outputs": [
    {
     "name": "stdout",
     "output_type": "stream",
     "text": [
      "최대가 되는 경우: 50 * 50 = 2500\n"
     ]
    }
   ],
   "source": [
    "max_value = 0\n",
    "a = 0\n",
    "b = 0\n",
    "for i in range(1, 100 // 2+1):\n",
    "    j = 100 - i    \n",
    "    current = i * j\n",
    "    if max_value < current:\n",
    "        a = i\n",
    "        b = j\n",
    "        max_value = current\n",
    "print(\"최대가 되는 경우: {} * {} = {}\".format(a, b, max_value))"
   ]
  },
  {
   "cell_type": "code",
   "execution_count": 5,
   "id": "e8dd0e8e",
   "metadata": {},
   "outputs": [
    {
     "data": {
      "text/plain": [
       "32"
      ]
     },
     "execution_count": 5,
     "metadata": {},
     "output_type": "execute_result"
    }
   ],
   "source": [
    "numbers = [103, 52, 273, 32, 77]\n",
    "\n",
    "min(numbers)"
   ]
  },
  {
   "cell_type": "code",
   "execution_count": 6,
   "id": "1c61d48f",
   "metadata": {},
   "outputs": [
    {
     "data": {
      "text/plain": [
       "273"
      ]
     },
     "execution_count": 6,
     "metadata": {},
     "output_type": "execute_result"
    }
   ],
   "source": [
    "max(numbers)"
   ]
  },
  {
   "cell_type": "code",
   "execution_count": 7,
   "id": "c791fa7d",
   "metadata": {},
   "outputs": [
    {
     "data": {
      "text/plain": [
       "537"
      ]
     },
     "execution_count": 7,
     "metadata": {},
     "output_type": "execute_result"
    }
   ],
   "source": [
    "sum(numbers)"
   ]
  },
  {
   "cell_type": "code",
   "execution_count": 8,
   "id": "ac6947be",
   "metadata": {},
   "outputs": [
    {
     "name": "stdout",
     "output_type": "stream",
     "text": [
      "# reversed()함수\n",
      "reversed([1, 2, 3, 4, 5]:) <list_reverseiterator object at 0x00000202CE493280>\n",
      "list_reversed([1, 2, 3, 4, 5]): [5, 4, 3, 2, 1]\n",
      "\n",
      "# reversed() 함수와 반복문\n",
      "for i in reversed([1, 2, 3, 4, 5]):\n",
      "- 5\n",
      "- 4\n",
      "- 3\n",
      "- 2\n",
      "- 1\n"
     ]
    }
   ],
   "source": [
    "list_a = [1, 2, 3, 4, 5]\n",
    "list_reversed = reversed(list_a)\n",
    "print(\"# reversed()함수\")\n",
    "print(\"reversed([1, 2, 3, 4, 5]:)\", list_reversed)\n",
    "print(\"list_reversed([1, 2, 3, 4, 5]):\", list(list_reversed))\n",
    "print()\n",
    "print(\"# reversed() 함수와 반복문\")\n",
    "print(\"for i in reversed([1, 2, 3, 4, 5]):\")\n",
    "for i in reversed(list_a):\n",
    "    print(\"-\", i)"
   ]
  },
  {
   "cell_type": "code",
   "execution_count": 9,
   "id": "ddb9e148",
   "metadata": {},
   "outputs": [],
   "source": [
    "array = [\"자두\" ,\"바나나\", \"홍시\", \"수박\" ,\"초콜릿\"]\n",
    "output = [fruit for fruit in array if fruit != \"초콜릿\"]"
   ]
  },
  {
   "cell_type": "code",
   "execution_count": 10,
   "id": "00631a04",
   "metadata": {},
   "outputs": [
    {
     "name": "stdout",
     "output_type": "stream",
     "text": [
      "['자두', '바나나', '홍시', '수박']\n"
     ]
    }
   ],
   "source": [
    "print(output)"
   ]
  },
  {
   "cell_type": "code",
   "execution_count": 12,
   "id": "85e2dd91",
   "metadata": {},
   "outputs": [
    {
     "name": "stdout",
     "output_type": "stream",
     "text": [
      "정수 입력 >10\n",
      "        입력한 문자열은 10입니다.\n",
      "        10은 짝수입니다.\n"
     ]
    }
   ],
   "source": [
    "number = int(input(\"정수 입력 >\"))\n",
    "if number % 2 == 0:\n",
    "    print(\"\"\"\\\n",
    "        입력한 문자열은 {}입니다.\n",
    "        {}은 짝수입니다.\"\"\".format(number, number))\n",
    "else:\n",
    "    print(\"\"\"\\\n",
    "        입력한 문자열은 {}입니다.\n",
    "        {}은 홀수입니다.\"\"\".format(number, number))"
   ]
  },
  {
   "cell_type": "code",
   "execution_count": 13,
   "id": "4ccdc009",
   "metadata": {},
   "outputs": [
    {
     "name": "stdout",
     "output_type": "stream",
     "text": [
      "정수 입력 >56\n",
      "입력한 문자열은 56입니다.\t56은 짝수입니다.\n"
     ]
    }
   ],
   "source": [
    "number = int(input(\"정수 입력 >\"))\n",
    "if number % 2 == 0:\n",
    "    print(\"입력한 문자열은 {}입니다.\\t{}은 짝수입니다.\".format(number, number))\n",
    "else:\n",
    "    print(\"입력한 문자열은 {}입니다.\\t{}은 홀수입니다.\".format(number, number))"
   ]
  },
  {
   "cell_type": "code",
   "execution_count": 14,
   "id": "5d0ce352",
   "metadata": {},
   "outputs": [
    {
     "name": "stdout",
     "output_type": "stream",
     "text": [
      "test: 이렇게 입력해도하나의 문자열로 연결되어생성됩니다.\n",
      "type(test): <class 'str'>\n"
     ]
    }
   ],
   "source": [
    "test = (\n",
    "    \"이렇게 입력해도\"\n",
    "    \"하나의 문자열로 연결되어\"\n",
    "    \"생성됩니다.\"\n",
    ")\n",
    "\n",
    "print(\"test:\", test)\n",
    "print(\"type(test):\", type(test))"
   ]
  },
  {
   "cell_type": "code",
   "execution_count": 15,
   "id": "17e40459",
   "metadata": {},
   "outputs": [
    {
     "name": "stdout",
     "output_type": "stream",
     "text": [
      "정수 입력 >56\n",
      "입력한 문자열은 56입니다.\n",
      "56은 짝수입니다.\n"
     ]
    }
   ],
   "source": [
    "number = int(input(\"정수 입력 >\"))\n",
    "if number % 2 == 0:\n",
    "    print((\n",
    "        \"입력한 문자열은 {}입니다.\\n\"\n",
    "        \"{}은 짝수입니다.\"\n",
    "    ).format(number, number))\n",
    "else:\n",
    "    print((\n",
    "        \"입력한 문자열은 {}입니다.\"\n",
    "        \"{}은 홀수입니다.\"\n",
    "    ).format(number, number))"
   ]
  },
  {
   "cell_type": "code",
   "execution_count": 16,
   "id": "ee3fd9a5",
   "metadata": {},
   "outputs": [
    {
     "name": "stdout",
     "output_type": "stream",
     "text": [
      "1::2::3::4::5\n"
     ]
    }
   ],
   "source": [
    "print(\"::\".join([\"1\", \"2\", \"3\", \"4\", \"5\"]))"
   ]
  },
  {
   "cell_type": "code",
   "execution_count": 17,
   "id": "d46caeef",
   "metadata": {},
   "outputs": [
    {
     "name": "stdout",
     "output_type": "stream",
     "text": [
      "정수 입력 >56\n",
      "입력한 문자열은 56입니다.\n",
      "56은 짝수입니다.\n"
     ]
    }
   ],
   "source": [
    "number = int(input(\"정수 입력 >\"))\n",
    "if number % 2 == 0:\n",
    "    print(\"\\n\".join([\n",
    "        \"입력한 문자열은 {}입니다.\",\n",
    "        \"{}은 짝수입니다.\"\n",
    "    ]).format(number, number))\n",
    "else:\n",
    "    print(\"\\n\".join([\n",
    "        \"입력한 문자열은 {}입니다.\",\n",
    "        \"{}은 홀수입니다.\"\n",
    "    ]).format(number, number))"
   ]
  },
  {
   "cell_type": "code",
   "execution_count": 18,
   "id": "f70742b9",
   "metadata": {},
   "outputs": [
    {
     "name": "stdout",
     "output_type": "stream",
     "text": [
      "reversed_numbers: <list_reverseiterator object at 0x00000202CE493880>\n",
      "6\n",
      "5\n",
      "4\n",
      "3\n",
      "2\n"
     ]
    }
   ],
   "source": [
    "numbers = [1, 2, 3, 4, 5, 6]\n",
    "r_num = reversed(numbers)\n",
    "print(\"reversed_numbers:\", r_num)\n",
    "print(next(r_num))\n",
    "print(next(r_num))\n",
    "print(next(r_num))\n",
    "print(next(r_num))\n",
    "print(next(r_num))"
   ]
  },
  {
   "cell_type": "markdown",
   "id": "ce76de2e",
   "metadata": {},
   "source": [
    "# 04-4장 확인문제"
   ]
  },
  {
   "cell_type": "code",
   "execution_count": 19,
   "id": "d6b93212",
   "metadata": {},
   "outputs": [
    {
     "data": {
      "text/plain": [
       "'1010'"
      ]
     },
     "execution_count": 19,
     "metadata": {},
     "output_type": "execute_result"
    }
   ],
   "source": [
    "\"{:b}\".format(10)"
   ]
  },
  {
   "cell_type": "code",
   "execution_count": 20,
   "id": "3bfbba2d",
   "metadata": {},
   "outputs": [
    {
     "data": {
      "text/plain": [
       "10"
      ]
     },
     "execution_count": 20,
     "metadata": {},
     "output_type": "execute_result"
    }
   ],
   "source": [
    "int(\"1010\",2)"
   ]
  },
  {
   "cell_type": "code",
   "execution_count": 21,
   "id": "b72079c0",
   "metadata": {},
   "outputs": [
    {
     "name": "stdout",
     "output_type": "stream",
     "text": [
      "2 : 10\n",
      "5 : 101\n",
      "6 : 110\n",
      "11 : 1011\n",
      "13 : 1101\n",
      "14 : 1110\n",
      "23 : 10111\n",
      "27 : 11011\n",
      "29 : 11101\n",
      "30 : 11110\n",
      "47 : 101111\n",
      "55 : 110111\n",
      "59 : 111011\n",
      "61 : 111101\n",
      "62 : 111110\n",
      "95 : 1011111\n",
      "합계: 539\n"
     ]
    }
   ],
   "source": [
    "output = [i for i in range(1, 101)\n",
    "    if \"{:b}\".format(i).count(\"0\") == 1]\n",
    "for i in output:\n",
    "    print(\"{} : {}\".format(i, \"{:b}\".format(i)))\n",
    "print(\"합계:\", sum(output))"
   ]
  },
  {
   "cell_type": "code",
   "execution_count": 22,
   "id": "3ab26161",
   "metadata": {},
   "outputs": [
    {
     "data": {
      "text/plain": [
       "2"
      ]
     },
     "execution_count": 22,
     "metadata": {},
     "output_type": "execute_result"
    }
   ],
   "source": [
    "\"안녕안녕사에요\".count(\"안\")"
   ]
  },
  {
   "cell_type": "code",
   "execution_count": 23,
   "id": "93706102",
   "metadata": {},
   "outputs": [
    {
     "data": {
      "text/plain": [
       "'10'"
      ]
     },
     "execution_count": 23,
     "metadata": {},
     "output_type": "execute_result"
    }
   ],
   "source": [
    "\"{:0}\".format(10)"
   ]
  },
  {
   "cell_type": "code",
   "execution_count": 24,
   "id": "a58b3417",
   "metadata": {},
   "outputs": [
    {
     "data": {
      "text/plain": [
       "10"
      ]
     },
     "execution_count": 24,
     "metadata": {},
     "output_type": "execute_result"
    }
   ],
   "source": [
    "int(\"12\",8)"
   ]
  },
  {
   "cell_type": "code",
   "execution_count": 25,
   "id": "b703732f",
   "metadata": {},
   "outputs": [
    {
     "data": {
      "text/plain": [
       "'a'"
      ]
     },
     "execution_count": 25,
     "metadata": {},
     "output_type": "execute_result"
    }
   ],
   "source": [
    "\"{:x}\".format(10)"
   ]
  },
  {
   "cell_type": "code",
   "execution_count": 26,
   "id": "3799ba75",
   "metadata": {},
   "outputs": [
    {
     "data": {
      "text/plain": [
       "16"
      ]
     },
     "execution_count": 26,
     "metadata": {},
     "output_type": "execute_result"
    }
   ],
   "source": [
    "int(\"10\",16)"
   ]
  },
  {
   "cell_type": "code",
   "execution_count": 27,
   "id": "7d9ab891",
   "metadata": {},
   "outputs": [
    {
     "name": "stdout",
     "output_type": "stream",
     "text": [
      "안녕하세요\n",
      "안녕하세요\n",
      "안녕하세요\n",
      "안녕하세요\n",
      "안녕하세요\n"
     ]
    }
   ],
   "source": [
    "def print_n_times(value, n):\n",
    "    for i in range(n):\n",
    "        print(value)\n",
    "print_n_times(\"안녕하세요\", 5)"
   ]
  },
  {
   "cell_type": "code",
   "execution_count": 29,
   "id": "65fa6659",
   "metadata": {},
   "outputs": [
    {
     "name": "stdout",
     "output_type": "stream",
     "text": [
      "안녕하세요\n",
      "즐거운\n",
      "파이썬 프로그래밍\n",
      "\n",
      "안녕하세요\n",
      "즐거운\n",
      "파이썬 프로그래밍\n",
      "\n",
      "안녕하세요\n",
      "즐거운\n",
      "파이썬 프로그래밍\n",
      "\n"
     ]
    }
   ],
   "source": [
    "def print_n_times(n, *values):\n",
    "    for i in range(n):\n",
    "        for value in values:\n",
    "            print(value)\n",
    "        print()\n",
    "print_n_times(3,\"안녕하세요\", \"즐거운\", \"파이썬 프로그래밍\")"
   ]
  },
  {
   "cell_type": "code",
   "execution_count": 30,
   "id": "20949ec0",
   "metadata": {},
   "outputs": [
    {
     "name": "stdout",
     "output_type": "stream",
     "text": [
      "안녕하\n",
      "안녕하\n"
     ]
    }
   ],
   "source": [
    "def print_n_times(value, n=2):\n",
    "    for i in range(n):\n",
    "        print(value)\n",
    "print_n_times(\"안녕하\")"
   ]
  },
  {
   "cell_type": "code",
   "execution_count": 31,
   "id": "e85bb7d0",
   "metadata": {},
   "outputs": [
    {
     "ename": "TypeError",
     "evalue": "'str' object cannot be interpreted as an integer",
     "output_type": "error",
     "traceback": [
      "\u001b[1;31m---------------------------------------------------------------------------\u001b[0m",
      "\u001b[1;31mTypeError\u001b[0m                                 Traceback (most recent call last)",
      "\u001b[1;32m<ipython-input-31-a8b0af31238b>\u001b[0m in \u001b[0;36m<module>\u001b[1;34m\u001b[0m\n\u001b[0;32m      4\u001b[0m             \u001b[0mprint\u001b[0m\u001b[1;33m(\u001b[0m\u001b[0mvalue\u001b[0m\u001b[1;33m)\u001b[0m\u001b[1;33m\u001b[0m\u001b[1;33m\u001b[0m\u001b[0m\n\u001b[0;32m      5\u001b[0m         \u001b[0mprint\u001b[0m\u001b[1;33m(\u001b[0m\u001b[1;33m)\u001b[0m\u001b[1;33m\u001b[0m\u001b[1;33m\u001b[0m\u001b[0m\n\u001b[1;32m----> 6\u001b[1;33m \u001b[0mprint_n_times\u001b[0m\u001b[1;33m(\u001b[0m\u001b[1;34m\"안녕하세요\"\u001b[0m\u001b[1;33m,\u001b[0m \u001b[1;34m\"즐거운\"\u001b[0m\u001b[1;33m,\u001b[0m \u001b[1;34m\"파이썬 프로그램\"\u001b[0m\u001b[1;33m)\u001b[0m\u001b[1;33m\u001b[0m\u001b[1;33m\u001b[0m\u001b[0m\n\u001b[0m",
      "\u001b[1;32m<ipython-input-31-a8b0af31238b>\u001b[0m in \u001b[0;36mprint_n_times\u001b[1;34m(n, *values)\u001b[0m\n\u001b[0;32m      1\u001b[0m \u001b[1;32mdef\u001b[0m \u001b[0mprint_n_times\u001b[0m\u001b[1;33m(\u001b[0m\u001b[0mn\u001b[0m\u001b[1;33m=\u001b[0m\u001b[1;36m2\u001b[0m\u001b[1;33m,\u001b[0m \u001b[1;33m*\u001b[0m\u001b[0mvalues\u001b[0m\u001b[1;33m)\u001b[0m\u001b[1;33m:\u001b[0m\u001b[1;33m\u001b[0m\u001b[1;33m\u001b[0m\u001b[0m\n\u001b[1;32m----> 2\u001b[1;33m     \u001b[1;32mfor\u001b[0m \u001b[0mi\u001b[0m \u001b[1;32min\u001b[0m \u001b[0mrange\u001b[0m\u001b[1;33m(\u001b[0m\u001b[0mn\u001b[0m\u001b[1;33m)\u001b[0m\u001b[1;33m:\u001b[0m\u001b[1;33m\u001b[0m\u001b[1;33m\u001b[0m\u001b[0m\n\u001b[0m\u001b[0;32m      3\u001b[0m         \u001b[1;32mfor\u001b[0m \u001b[0mvalue\u001b[0m \u001b[1;32min\u001b[0m \u001b[0mvalues\u001b[0m\u001b[1;33m:\u001b[0m\u001b[1;33m\u001b[0m\u001b[1;33m\u001b[0m\u001b[0m\n\u001b[0;32m      4\u001b[0m             \u001b[0mprint\u001b[0m\u001b[1;33m(\u001b[0m\u001b[0mvalue\u001b[0m\u001b[1;33m)\u001b[0m\u001b[1;33m\u001b[0m\u001b[1;33m\u001b[0m\u001b[0m\n\u001b[0;32m      5\u001b[0m         \u001b[0mprint\u001b[0m\u001b[1;33m(\u001b[0m\u001b[1;33m)\u001b[0m\u001b[1;33m\u001b[0m\u001b[1;33m\u001b[0m\u001b[0m\n",
      "\u001b[1;31mTypeError\u001b[0m: 'str' object cannot be interpreted as an integer"
     ]
    }
   ],
   "source": [
    "def print_n_times(n=2, *values):\n",
    "    for i in range(n):\n",
    "        for value in values:\n",
    "            print(value)\n",
    "        print()\n",
    "print_n_times(\"안녕하세요\", \"즐거운\", \"파이썬 프로그램\")"
   ]
  },
  {
   "cell_type": "code",
   "execution_count": 32,
   "id": "14bfeb0e",
   "metadata": {},
   "outputs": [
    {
     "name": "stdout",
     "output_type": "stream",
     "text": [
      "안녕하세요\n",
      "즐거운\n",
      "파이썬프로그래밍\n",
      "3\n",
      "\n",
      "안녕하세요\n",
      "즐거운\n",
      "파이썬프로그래밍\n",
      "3\n",
      "\n"
     ]
    }
   ],
   "source": [
    "def print_n_times(*values, n=2):\n",
    "    for i in range(n):\n",
    "        for value in values:\n",
    "            print(value)\n",
    "        print()\n",
    "print_n_times(\"안녕하세요\", \"즐거운\", \"파이썬프로그래밍\", 3)"
   ]
  },
  {
   "cell_type": "code",
   "execution_count": 34,
   "id": "36512938",
   "metadata": {},
   "outputs": [
    {
     "name": "stdout",
     "output_type": "stream",
     "text": [
      "안녕하세요\n",
      "즐거운\n",
      "파이썬프로그래밍\n",
      "\n",
      "안녕하세요\n",
      "즐거운\n",
      "파이썬프로그래밍\n",
      "\n",
      "안녕하세요\n",
      "즐거운\n",
      "파이썬프로그래밍\n",
      "\n"
     ]
    }
   ],
   "source": [
    "def print_n_times(*values, n=2):\n",
    "    for i in range(n):\n",
    "        for value in values:\n",
    "            print(value)\n",
    "        print()\n",
    "print_n_times(\"안녕하세요\", \"즐거운\", \"파이썬프로그래밍\",n = 3)"
   ]
  },
  {
   "cell_type": "code",
   "execution_count": 35,
   "id": "15f51dbe",
   "metadata": {},
   "outputs": [
    {
     "name": "stdout",
     "output_type": "stream",
     "text": [
      "60\n",
      "310\n",
      "310\n",
      "230\n"
     ]
    }
   ],
   "source": [
    "def test(a, b=20, c=100):\n",
    "    print(a + b + c)\n",
    "test(10, 20, 30)\n",
    "test(a=10, b=200, c=100)\n",
    "test(c=10, a=100, b=200)\n",
    "test(10, c=200)"
   ]
  },
  {
   "cell_type": "code",
   "execution_count": 36,
   "id": "b63d93a3",
   "metadata": {},
   "outputs": [
    {
     "name": "stdout",
     "output_type": "stream",
     "text": [
      ">150\n",
      "150\n"
     ]
    }
   ],
   "source": [
    "value = input(\">\")\n",
    "print(value)"
   ]
  },
  {
   "cell_type": "code",
   "execution_count": 38,
   "id": "ace6b2f0",
   "metadata": {},
   "outputs": [
    {
     "name": "stdout",
     "output_type": "stream",
     "text": [
      "A 위치입니다\n"
     ]
    }
   ],
   "source": [
    "def return_test():\n",
    "    print(\"A 위치입니다\")\n",
    "    return\n",
    "    print(\"B 위치입니다\")\n",
    "return_test()"
   ]
  },
  {
   "cell_type": "code",
   "execution_count": 39,
   "id": "eadc31f8",
   "metadata": {},
   "outputs": [
    {
     "name": "stdout",
     "output_type": "stream",
     "text": [
      "100\n"
     ]
    }
   ],
   "source": [
    "def return_test():\n",
    "    return 100\n",
    "value = return_test()\n",
    "print(value)"
   ]
  },
  {
   "cell_type": "code",
   "execution_count": 40,
   "id": "e28d942f",
   "metadata": {},
   "outputs": [
    {
     "name": "stdout",
     "output_type": "stream",
     "text": [
      "None\n"
     ]
    }
   ],
   "source": [
    "def return_test():\n",
    "    return \n",
    "value = return_test()\n",
    "print(value)"
   ]
  },
  {
   "cell_type": "code",
   "execution_count": 41,
   "id": "b3d94017",
   "metadata": {},
   "outputs": [
    {
     "name": "stdout",
     "output_type": "stream",
     "text": [
      "0 to 100: 5050\n",
      "0 to 1000: 500500\n",
      "50 to 100: 3825\n",
      "500 to 1000: 375750\n"
     ]
    }
   ],
   "source": [
    "def sum_all(start, end):\n",
    "    output = 0\n",
    "    for i in range(start, end + 1):\n",
    "        output += i\n",
    "    return output\n",
    "print(\"0 to 100:\", sum_all(0, 100))\n",
    "print(\"0 to 1000:\", sum_all(0, 1000))\n",
    "print(\"50 to 100:\", sum_all(50, 100))\n",
    "print(\"500 to 1000:\", sum_all(500, 1000))"
   ]
  },
  {
   "cell_type": "code",
   "execution_count": 42,
   "id": "e747730b",
   "metadata": {},
   "outputs": [
    {
     "name": "stdout",
     "output_type": "stream",
     "text": [
      "A. 550\n",
      "B. 5050\n",
      "C. 2550\n"
     ]
    }
   ],
   "source": [
    "def sum_all(start=0, end=100, step=1):\n",
    "    output = 0\n",
    "    for i in range(start, end + 1, step):\n",
    "        output += i\n",
    "    return output\n",
    "print(\"A.\", sum_all(0, 100, 10))\n",
    "print(\"B.\", sum_all(end=100))\n",
    "print(\"C.\", sum_all(end=100, step=2))"
   ]
  },
  {
   "cell_type": "markdown",
   "id": "d0c6394c",
   "metadata": {},
   "source": [
    "# 05-1 확인문제"
   ]
  },
  {
   "cell_type": "code",
   "execution_count": 43,
   "id": "490a9275",
   "metadata": {},
   "outputs": [
    {
     "name": "stdout",
     "output_type": "stream",
     "text": [
      "21\n"
     ]
    }
   ],
   "source": [
    "def f(x):\n",
    "    return 2*x + 1\n",
    "print(f(10))"
   ]
  },
  {
   "cell_type": "code",
   "execution_count": 44,
   "id": "f2837542",
   "metadata": {},
   "outputs": [
    {
     "name": "stdout",
     "output_type": "stream",
     "text": [
      "121\n"
     ]
    }
   ],
   "source": [
    "def f(x):\n",
    "    return x ** 2 + x * 2 + 1\n",
    "print(f(10))"
   ]
  },
  {
   "cell_type": "code",
   "execution_count": 45,
   "id": "a4a5d3c9",
   "metadata": {},
   "outputs": [
    {
     "name": "stdout",
     "output_type": "stream",
     "text": [
      "3150\n"
     ]
    }
   ],
   "source": [
    "def mul(*values):\n",
    "    output = 1\n",
    "    for value in values:\n",
    "        output *= value\n",
    "    return output\n",
    "print(mul(5, 7 ,9, 10))"
   ]
  },
  {
   "cell_type": "code",
   "execution_count": null,
   "id": "e01a5e82",
   "metadata": {},
   "outputs": [],
   "source": []
  }
 ],
 "metadata": {
  "kernelspec": {
   "display_name": "Python 3",
   "language": "python",
   "name": "python3"
  },
  "language_info": {
   "codemirror_mode": {
    "name": "ipython",
    "version": 3
   },
   "file_extension": ".py",
   "mimetype": "text/x-python",
   "name": "python",
   "nbconvert_exporter": "python",
   "pygments_lexer": "ipython3",
   "version": "3.8.8"
  }
 },
 "nbformat": 4,
 "nbformat_minor": 5
}
