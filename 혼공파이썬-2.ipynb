{
 "cells": [
  {
   "cell_type": "markdown",
   "id": "97fdf89e",
   "metadata": {},
   "source": [
    "# 02-03장 확인문제"
   ]
  },
  {
   "cell_type": "code",
   "execution_count": 1,
   "id": "b923bbb9",
   "metadata": {},
   "outputs": [
    {
     "name": "stdout",
     "output_type": "stream",
     "text": [
      "숫자 입력> 55\n",
      "\n",
      "55 inch\n",
      "139.7 cm\n"
     ]
    }
   ],
   "source": [
    "str_input = input(\"숫자 입력> \")\n",
    "num_input = int(str_input)\n",
    "print()\n",
    "print(num_input, \"inch\")\n",
    "print((num_input * 2.54), \"cm\")"
   ]
  },
  {
   "cell_type": "code",
   "execution_count": 2,
   "id": "f813c291",
   "metadata": {},
   "outputs": [
    {
     "name": "stdout",
     "output_type": "stream",
     "text": [
      "원의 반지름 입력> 55\n",
      "\n",
      "반지름: 55.0\n",
      "둘레: 345.40000000000003\n",
      "넓이: 9498.5\n"
     ]
    }
   ],
   "source": [
    "str_input = input(\"원의 반지름 입력> \")\n",
    "num_input = float(str_input)\n",
    "print()\n",
    "print(\"반지름:\", num_input)\n",
    "print(\"둘레:\", 2 * 3.14 * num_input)\n",
    "print(\"넓이:\", 3.14 * num_input ** 2)"
   ]
  },
  {
   "cell_type": "code",
   "execution_count": 3,
   "id": "22f00a73",
   "metadata": {},
   "outputs": [
    {
     "name": "stdout",
     "output_type": "stream",
     "text": [
      "문자열 입력> 헬로우\n",
      "문자열 입력> 반가워요ㅗ\n",
      "헬로우 반가워요ㅗ\n",
      "반가워요ㅗ 헬로우\n"
     ]
    }
   ],
   "source": [
    "a = input(\"문자열 입력> \")\n",
    "b = input(\"문자열 입력> \")\n",
    "\n",
    "print(a, b)\n",
    "c = a\n",
    "a = b\n",
    "b = c\n",
    "print(a, b)"
   ]
  },
  {
   "cell_type": "code",
   "execution_count": 4,
   "id": "c5a69ec0",
   "metadata": {},
   "outputs": [
    {
     "data": {
      "text/plain": [
       "'10'"
      ]
     },
     "execution_count": 4,
     "metadata": {},
     "output_type": "execute_result"
    }
   ],
   "source": [
    "\"{}\".format(10)"
   ]
  },
  {
   "cell_type": "code",
   "execution_count": 5,
   "id": "30f65096",
   "metadata": {},
   "outputs": [
    {
     "name": "stdout",
     "output_type": "stream",
     "text": [
      "10\n",
      "<class 'str'>\n"
     ]
    }
   ],
   "source": [
    "a = \"{}\".format(10)\n",
    "print(a)\n",
    "print(type(a))"
   ]
  },
  {
   "cell_type": "code",
   "execution_count": 6,
   "id": "3392be0c",
   "metadata": {},
   "outputs": [],
   "source": [
    "a = \"{:d}\".format(52)"
   ]
  },
  {
   "cell_type": "code",
   "execution_count": 7,
   "id": "1246e1aa",
   "metadata": {},
   "outputs": [
    {
     "data": {
      "text/plain": [
       "'52'"
      ]
     },
     "execution_count": 7,
     "metadata": {},
     "output_type": "execute_result"
    }
   ],
   "source": [
    "a"
   ]
  },
  {
   "cell_type": "code",
   "execution_count": 9,
   "id": "e091dd8f",
   "metadata": {},
   "outputs": [],
   "source": [
    "b = \"{:5d}\".format(52)"
   ]
  },
  {
   "cell_type": "code",
   "execution_count": 10,
   "id": "89821dfd",
   "metadata": {},
   "outputs": [
    {
     "data": {
      "text/plain": [
       "'   52'"
      ]
     },
     "execution_count": 10,
     "metadata": {},
     "output_type": "execute_result"
    }
   ],
   "source": [
    "b"
   ]
  },
  {
   "cell_type": "code",
   "execution_count": 11,
   "id": "08b5c1d5",
   "metadata": {},
   "outputs": [],
   "source": [
    "c = \"{:10d}\".format(52)"
   ]
  },
  {
   "cell_type": "code",
   "execution_count": 12,
   "id": "b2a1c355",
   "metadata": {},
   "outputs": [
    {
     "data": {
      "text/plain": [
       "'        52'"
      ]
     },
     "execution_count": 12,
     "metadata": {},
     "output_type": "execute_result"
    }
   ],
   "source": [
    "c"
   ]
  },
  {
   "cell_type": "code",
   "execution_count": 13,
   "id": "80775578",
   "metadata": {},
   "outputs": [],
   "source": [
    "d = \"{:05d}\".format(52)"
   ]
  },
  {
   "cell_type": "code",
   "execution_count": 14,
   "id": "4437943d",
   "metadata": {},
   "outputs": [
    {
     "data": {
      "text/plain": [
       "'00052'"
      ]
     },
     "execution_count": 14,
     "metadata": {},
     "output_type": "execute_result"
    }
   ],
   "source": [
    "d"
   ]
  },
  {
   "cell_type": "code",
   "execution_count": 15,
   "id": "25aeed01",
   "metadata": {},
   "outputs": [],
   "source": [
    "e = \"{:05d}\".format(-52)"
   ]
  },
  {
   "cell_type": "code",
   "execution_count": 16,
   "id": "38be1f78",
   "metadata": {},
   "outputs": [
    {
     "data": {
      "text/plain": [
       "'-0052'"
      ]
     },
     "execution_count": 16,
     "metadata": {},
     "output_type": "execute_result"
    }
   ],
   "source": [
    "e"
   ]
  },
  {
   "cell_type": "code",
   "execution_count": 17,
   "id": "127ff664",
   "metadata": {},
   "outputs": [
    {
     "name": "stdout",
     "output_type": "stream",
     "text": [
      "\n",
      "  +52\n",
      "  -52\n",
      "   52\n",
      "  -52\n"
     ]
    }
   ],
   "source": [
    "f = \"{:+5d}\".format(52)\n",
    "g = \"{:-5d}\".format(-52)\n",
    "h = \"{: 5d}\".format(+52)\n",
    "i = \"{: 5d}\".format(-52)\n",
    "\n",
    "print()\n",
    "print(f)\n",
    "print(g)\n",
    "print(h)\n",
    "print(i)"
   ]
  },
  {
   "cell_type": "code",
   "execution_count": 18,
   "id": "f1794e8f",
   "metadata": {},
   "outputs": [
    {
     "name": "stdout",
     "output_type": "stream",
     "text": [
      "  +52\n",
      "  -52\n",
      "+  52\n",
      "-  52\n",
      "+0052\n",
      "-0052\n"
     ]
    }
   ],
   "source": [
    "f = \"{:+5d}\".format(52)\n",
    "g = \"{:+5d}\".format(-52)\n",
    "h = \"{:=+5d}\".format(+52)\n",
    "i = \"{:=+5d}\".format(-52)\n",
    "j = \"{:+05d}\".format(52)\n",
    "k = \"{:+05d}\".format(-52)\n",
    "\n",
    "print(f)\n",
    "print(g)\n",
    "print(h)\n",
    "print(i)\n",
    "print(j)\n",
    "print(k)"
   ]
  },
  {
   "cell_type": "code",
   "execution_count": 19,
   "id": "424a7c2f",
   "metadata": {},
   "outputs": [
    {
     "name": "stdout",
     "output_type": "stream",
     "text": [
      "52.723000\n",
      "      52.723000\n",
      "     +52.723000\n",
      "+0000052.723000\n"
     ]
    }
   ],
   "source": [
    "output_a = \"{:f}\".format(52.723)\n",
    "output_b = \"{:15f}\".format(52.723)\n",
    "output_c = \"{:+15f}\".format(52.723)\n",
    "output_d = \"{:+015f}\".format(52.723)\n",
    "\n",
    "print(output_a)\n",
    "print(output_b)\n",
    "print(output_c)\n",
    "print(output_d)"
   ]
  },
  {
   "cell_type": "code",
   "execution_count": 20,
   "id": "b2727920",
   "metadata": {},
   "outputs": [
    {
     "name": "stdout",
     "output_type": "stream",
     "text": [
      "         52.723\n",
      "          52.72\n",
      "           52.7\n"
     ]
    }
   ],
   "source": [
    "output_a = \"{:15.3f}\".format(52.723)\n",
    "output_b = \"{:15.2f}\".format(52.723)\n",
    "output_c = \"{:15.1f}\".format(52.723)\n",
    "\n",
    "print(output_a)\n",
    "print(output_b)\n",
    "print(output_c)"
   ]
  },
  {
   "cell_type": "code",
   "execution_count": 21,
   "id": "d0125723",
   "metadata": {},
   "outputs": [
    {
     "name": "stdout",
     "output_type": "stream",
     "text": [
      "52.0\n",
      "52\n"
     ]
    }
   ],
   "source": [
    "output_a = 52.0\n",
    "output_b = \"{:g}\".format(output_a)\n",
    "print(output_a)\n",
    "print(output_b)"
   ]
  },
  {
   "cell_type": "code",
   "execution_count": 22,
   "id": "c37be346",
   "metadata": {},
   "outputs": [
    {
     "data": {
      "text/plain": [
       "'HELLO PYTHON PROGRAMMING...!'"
      ]
     },
     "execution_count": 22,
     "metadata": {},
     "output_type": "execute_result"
    }
   ],
   "source": [
    "a = \"hello python programming...!\"\n",
    "a.upper()"
   ]
  },
  {
   "cell_type": "code",
   "execution_count": 23,
   "id": "d9052f89",
   "metadata": {},
   "outputs": [
    {
     "data": {
      "text/plain": [
       "'hello python programming...!'"
      ]
     },
     "execution_count": 23,
     "metadata": {},
     "output_type": "execute_result"
    }
   ],
   "source": [
    "a.lower()"
   ]
  },
  {
   "cell_type": "code",
   "execution_count": 24,
   "id": "dc071609",
   "metadata": {},
   "outputs": [
    {
     "name": "stdout",
     "output_type": "stream",
     "text": [
      "\n",
      "    안녕하세요\n",
      "문자열의 함수를 알아봅니다\n",
      "\n"
     ]
    }
   ],
   "source": [
    "input_a = \"\"\"\n",
    "    안녕하세요\n",
    "문자열의 함수를 알아봅니다\n",
    "\"\"\"\n",
    "print(input_a)"
   ]
  },
  {
   "cell_type": "code",
   "execution_count": 25,
   "id": "0ea9cbac",
   "metadata": {},
   "outputs": [
    {
     "name": "stdout",
     "output_type": "stream",
     "text": [
      "안녕하세요\n",
      "문자열의 함수를 알아봅니다\n"
     ]
    }
   ],
   "source": [
    "print(input_a.strip())"
   ]
  },
  {
   "cell_type": "code",
   "execution_count": 26,
   "id": "4965514b",
   "metadata": {},
   "outputs": [
    {
     "name": "stdout",
     "output_type": "stream",
     "text": [
      "True\n"
     ]
    }
   ],
   "source": [
    "print(\"TrainA10\".isalnum())"
   ]
  },
  {
   "cell_type": "code",
   "execution_count": 27,
   "id": "6b97452b",
   "metadata": {},
   "outputs": [
    {
     "name": "stdout",
     "output_type": "stream",
     "text": [
      "True\n"
     ]
    }
   ],
   "source": [
    "print(\"10\".isdigit())"
   ]
  },
  {
   "cell_type": "code",
   "execution_count": 28,
   "id": "84d5b363",
   "metadata": {},
   "outputs": [],
   "source": [
    "output_a = \"안녕안녕하세요\".find(\"안녕\")"
   ]
  },
  {
   "cell_type": "code",
   "execution_count": 29,
   "id": "5c469b6b",
   "metadata": {},
   "outputs": [
    {
     "name": "stdout",
     "output_type": "stream",
     "text": [
      "0\n"
     ]
    }
   ],
   "source": [
    "print(output_a)"
   ]
  },
  {
   "cell_type": "code",
   "execution_count": 30,
   "id": "21618ab5",
   "metadata": {},
   "outputs": [],
   "source": [
    "output_b = \"안녕안녕하세요\".rfind(\"안녕\")"
   ]
  },
  {
   "cell_type": "code",
   "execution_count": 31,
   "id": "87bed25b",
   "metadata": {},
   "outputs": [
    {
     "name": "stdout",
     "output_type": "stream",
     "text": [
      "2\n"
     ]
    }
   ],
   "source": [
    "print(output_b)"
   ]
  },
  {
   "cell_type": "code",
   "execution_count": 32,
   "id": "18366c55",
   "metadata": {},
   "outputs": [
    {
     "name": "stdout",
     "output_type": "stream",
     "text": [
      "True\n"
     ]
    }
   ],
   "source": [
    "print(\"안녕\" in \"안녕하세요\")"
   ]
  },
  {
   "cell_type": "code",
   "execution_count": 33,
   "id": "e73bacbf",
   "metadata": {},
   "outputs": [
    {
     "name": "stdout",
     "output_type": "stream",
     "text": [
      "False\n"
     ]
    }
   ],
   "source": [
    "print(\"잘자\" in \"안녕하세요\")"
   ]
  },
  {
   "cell_type": "code",
   "execution_count": 34,
   "id": "e4cda550",
   "metadata": {},
   "outputs": [
    {
     "name": "stdout",
     "output_type": "stream",
     "text": [
      "['10', '20', '30', '40', '50']\n"
     ]
    }
   ],
   "source": [
    "a = \"10 20 30 40 50\".split(\" \")\n",
    "print(a)"
   ]
  },
  {
   "cell_type": "markdown",
   "id": "96b07fc9",
   "metadata": {},
   "source": [
    "# 02-4장 확인문제"
   ]
  },
  {
   "cell_type": "code",
   "execution_count": 35,
   "id": "b24c0d7f",
   "metadata": {},
   "outputs": [
    {
     "name": "stdout",
     "output_type": "stream",
     "text": [
      "> 1번쨰 숫자: 100\n",
      "> 2번째 숫자: 200\n",
      "\n",
      "100 + 200 = 300\n"
     ]
    }
   ],
   "source": [
    "a = input(\"> 1번쨰 숫자: \")\n",
    "b = input(\"> 2번째 숫자: \")\n",
    "print()\n",
    "print(\"{} + {} = {}\".format(a, b, int(a) + int(b)))"
   ]
  },
  {
   "cell_type": "code",
   "execution_count": 36,
   "id": "0ac592cf",
   "metadata": {},
   "outputs": [
    {
     "name": "stdout",
     "output_type": "stream",
     "text": [
      "A 지점: hello\n",
      "B 지점: HELLO\n"
     ]
    }
   ],
   "source": [
    "string = \"hello\"\n",
    "string.upper()\n",
    "print(\"A 지점:\", string)\n",
    "print(\"B 지점:\", string.upper())"
   ]
  },
  {
   "cell_type": "code",
   "execution_count": 37,
   "id": "4cf2f1ef",
   "metadata": {},
   "outputs": [
    {
     "name": "stdout",
     "output_type": "stream",
     "text": [
      "True\n"
     ]
    }
   ],
   "source": [
    "print(True)"
   ]
  },
  {
   "cell_type": "code",
   "execution_count": 38,
   "id": "ea792443",
   "metadata": {},
   "outputs": [
    {
     "name": "stdout",
     "output_type": "stream",
     "text": [
      "False\n"
     ]
    }
   ],
   "source": [
    "print(False)"
   ]
  },
  {
   "cell_type": "code",
   "execution_count": 39,
   "id": "c09aa09e",
   "metadata": {},
   "outputs": [
    {
     "name": "stdout",
     "output_type": "stream",
     "text": [
      "False\n"
     ]
    }
   ],
   "source": [
    "print(10 == 100)"
   ]
  },
  {
   "cell_type": "code",
   "execution_count": 40,
   "id": "3a2913f0",
   "metadata": {},
   "outputs": [
    {
     "name": "stdout",
     "output_type": "stream",
     "text": [
      "True\n",
      "True\n",
      "False\n",
      "True\n",
      "False\n"
     ]
    }
   ],
   "source": [
    "print(10 != 100)\n",
    "print(10 < 100)\n",
    "print(10 > 100)\n",
    "print(10 <= 100)\n",
    "print(10 >= 100)"
   ]
  },
  {
   "cell_type": "code",
   "execution_count": 41,
   "id": "dab4f67d",
   "metadata": {},
   "outputs": [
    {
     "name": "stdout",
     "output_type": "stream",
     "text": [
      "True\n",
      "True\n",
      "True\n",
      "False\n"
     ]
    }
   ],
   "source": [
    "print(\"가방\" == \"가방\")\n",
    "print(\"가방\" != \"하마\")\n",
    "print(\"가방\" < \"하마\")\n",
    "print(\"가방\" > \"하마\")"
   ]
  },
  {
   "cell_type": "code",
   "execution_count": 42,
   "id": "cdbd4c72",
   "metadata": {},
   "outputs": [
    {
     "name": "stdout",
     "output_type": "stream",
     "text": [
      "True\n",
      "False\n"
     ]
    }
   ],
   "source": [
    "x = 25\n",
    "print(10 < x < 30)\n",
    "print(30 < x < 60)"
   ]
  },
  {
   "cell_type": "code",
   "execution_count": 43,
   "id": "0dab1701",
   "metadata": {},
   "outputs": [
    {
     "name": "stdout",
     "output_type": "stream",
     "text": [
      "False\n"
     ]
    }
   ],
   "source": [
    "print(not True)"
   ]
  },
  {
   "cell_type": "code",
   "execution_count": 44,
   "id": "81563e84",
   "metadata": {},
   "outputs": [
    {
     "name": "stdout",
     "output_type": "stream",
     "text": [
      "True\n"
     ]
    }
   ],
   "source": [
    "print(not False)"
   ]
  },
  {
   "cell_type": "code",
   "execution_count": 45,
   "id": "a8e58aa3",
   "metadata": {},
   "outputs": [
    {
     "name": "stdout",
     "output_type": "stream",
     "text": [
      "under_20: True\n",
      "not under_20: False\n"
     ]
    }
   ],
   "source": [
    "x = 10\n",
    "under_20 = x < 20\n",
    "print(\"under_20:\", under_20)\n",
    "print(\"not under_20:\", not under_20)"
   ]
  },
  {
   "cell_type": "code",
   "execution_count": 46,
   "id": "6b3c1661",
   "metadata": {},
   "outputs": [
    {
     "name": "stdout",
     "output_type": "stream",
     "text": [
      "True\n",
      "False\n",
      "False\n",
      "False\n",
      "True\n",
      "True\n",
      "False\n",
      "True\n"
     ]
    }
   ],
   "source": [
    "print(True and True)\n",
    "print(True and False)\n",
    "print(False and True)\n",
    "print(False and False)\n",
    "print(True or True)\n",
    "print(True or False)\n",
    "print(False or False)\n",
    "print(False or True)"
   ]
  },
  {
   "cell_type": "code",
   "execution_count": 47,
   "id": "06c6edcb",
   "metadata": {},
   "outputs": [
    {
     "name": "stdout",
     "output_type": "stream",
     "text": [
      "true 입니다\n",
      "정말 true 입니다\n"
     ]
    }
   ],
   "source": [
    "if True:\n",
    "    print(\"true 입니다\")\n",
    "    print(\"정말 true 입니다\")"
   ]
  },
  {
   "cell_type": "code",
   "execution_count": 48,
   "id": "2b1749c2",
   "metadata": {},
   "outputs": [],
   "source": [
    "if False:\n",
    "    print(\"False 입니다\")"
   ]
  },
  {
   "cell_type": "code",
   "execution_count": 50,
   "id": "b733fb9d",
   "metadata": {},
   "outputs": [
    {
     "name": "stdout",
     "output_type": "stream",
     "text": [
      "정수입력> -56\n",
      "음수입니다\n"
     ]
    }
   ],
   "source": [
    "number = input(\"정수입력> \")\n",
    "number = int(number)\n",
    "if number > 0:\n",
    "    print(\"양수입니다\")\n",
    "if number < 0:\n",
    "    print(\"음수입니다\")\n",
    "if number == 0:\n",
    "    print(\"0 입니다\")"
   ]
  },
  {
   "cell_type": "code",
   "execution_count": 51,
   "id": "9bfc0e3b",
   "metadata": {},
   "outputs": [
    {
     "name": "stdout",
     "output_type": "stream",
     "text": [
      "2021 년\n",
      "6 월\n",
      "18 일\n",
      "0 시\n",
      "21 분\n",
      "29 초\n"
     ]
    }
   ],
   "source": [
    "import datetime\n",
    "now = datetime.datetime.now()\n",
    "\n",
    "print(now.year, \"년\")\n",
    "print(now.month, \"월\")\n",
    "print(now.day, \"일\")\n",
    "print(now.hour, \"시\")\n",
    "print(now.minute, \"분\")\n",
    "print(now.second, \"초\")"
   ]
  },
  {
   "cell_type": "code",
   "execution_count": 52,
   "id": "7bf31dc9",
   "metadata": {},
   "outputs": [
    {
     "name": "stdout",
     "output_type": "stream",
     "text": [
      "2021년 6월 18일 0시 21분 48초\n"
     ]
    }
   ],
   "source": [
    "import datetime\n",
    "now = datetime.datetime.now()\n",
    "\n",
    "print(\"{}년 {}월 {}일 {}시 {}분 {}초\".format(\n",
    "    now.year,\n",
    "    now.month,\n",
    "    now.day,\n",
    "    now.hour,\n",
    "    now.minute,\n",
    "    now.second))"
   ]
  },
  {
   "cell_type": "code",
   "execution_count": 53,
   "id": "c2c8763d",
   "metadata": {},
   "outputs": [
    {
     "name": "stdout",
     "output_type": "stream",
     "text": [
      "현재 시작은 0시로 오전입니다!\n"
     ]
    }
   ],
   "source": [
    "import datetime\n",
    "now = datetime.datetime.now()\n",
    "\n",
    "if now.hour < 12:\n",
    "    print(\"현재 시작은 {}시로 오전입니다!\".format(now.hour))\n",
    "if now.hour >= 12:\n",
    "    print(\"현재 시간은 []시로 오후입니다!\".format(now.hour))"
   ]
  },
  {
   "cell_type": "code",
   "execution_count": 54,
   "id": "560c2099",
   "metadata": {},
   "outputs": [
    {
     "name": "stdout",
     "output_type": "stream",
     "text": [
      "이번달은 6월로 여름입니다!\n"
     ]
    }
   ],
   "source": [
    "import datetime\n",
    "now = datetime.datetime.now()\n",
    "if 3 <= now.month <=5:\n",
    "    print(\"이번달은 {}월로 봄입니다!\".format(now.month))\n",
    "if 6<= now.month <= 8:\n",
    "    print(\"이번달은 {}월로 여름입니다!\".format(now.month))\n",
    "if 9<= now.month <=11:\n",
    "    print(\" 이번달은 {}월로 가을입니다!\".format(now.month))\n",
    "if now.month == 12 or 1<= now.month <=2:\n",
    "    print(\"이번달은 {}월로 겨울입니다!\".format(now.month))"
   ]
  },
  {
   "cell_type": "code",
   "execution_count": 55,
   "id": "ecaed639",
   "metadata": {},
   "outputs": [
    {
     "name": "stdout",
     "output_type": "stream",
     "text": [
      "월 입력> 6\n",
      "이번달은 6월로 여름입니다!\n"
     ]
    }
   ],
   "source": [
    "num = int(input(\"월 입력> \"))\n",
    "\n",
    "\n",
    "\n",
    "if 3 <= num <=5:\n",
    "    print(\"이번달은 {}월로 봄입니다!\".format(num))\n",
    "if 6<= num <= 8:\n",
    "    print(\"이번달은 {}월로 여름입니다!\".format(num))\n",
    "if 9<= num <=11:\n",
    "    print(\" 이번달은 {}월로 가을입니다!\".format(num))\n",
    "if num == 12 or 1<= num <=2:\n",
    "    print(\"이번달은 {}월로 겨울입니다!\".format(num))"
   ]
  },
  {
   "cell_type": "code",
   "execution_count": 56,
   "id": "5ade3929",
   "metadata": {},
   "outputs": [
    {
     "name": "stdout",
     "output_type": "stream",
     "text": [
      "정수 입력> 5\n",
      "홀수입니다\n"
     ]
    }
   ],
   "source": [
    "number = input(\"정수 입력> \")\n",
    "last_char = number[-1]\n",
    "last_number = int(last_char)\n",
    "\n",
    "if last_number == 0 \\\n",
    "    or last_number == 2 \\\n",
    "    or last_number == 4 \\\n",
    "    or last_number == 6 \\\n",
    "    or last_number == 8:\n",
    "    print(\"짝수입니다\")\n",
    "if last_number == 1 \\\n",
    "    or last_number == 3 \\\n",
    "    or last_number == 5 \\\n",
    "    or last_number == 7 \\\n",
    "    or last_number == 9:\n",
    "    print(\"홀수입니다\")"
   ]
  },
  {
   "cell_type": "code",
   "execution_count": 57,
   "id": "9604681b",
   "metadata": {},
   "outputs": [
    {
     "name": "stdout",
     "output_type": "stream",
     "text": [
      "정수 입력> 655\n",
      "홀수입니다\n"
     ]
    }
   ],
   "source": [
    "number = input(\"정수 입력> \")\n",
    "last_char = number[-1]\n",
    "\n",
    "if last_char in \"02468\":\n",
    "    print(\"짝수입니다\")\n",
    "if last_char in \"13579\":\n",
    "    print(\"홀수입니다\")"
   ]
  },
  {
   "cell_type": "code",
   "execution_count": 58,
   "id": "f0c4dcfd",
   "metadata": {},
   "outputs": [
    {
     "name": "stdout",
     "output_type": "stream",
     "text": [
      "정수 입력>32\n",
      "짝수\n"
     ]
    }
   ],
   "source": [
    "number = input(\"정수 입력>\")\n",
    "number = int(number)\n",
    "if number % 2 == 0:\n",
    "    print(\"짝수\")\n",
    "if number % 2 == 1:\n",
    "    print(\"홀수\")"
   ]
  },
  {
   "cell_type": "markdown",
   "id": "5aad42cb",
   "metadata": {},
   "source": [
    "# 03-1 장 확인문제"
   ]
  },
  {
   "cell_type": "code",
   "execution_count": 59,
   "id": "18971733",
   "metadata": {},
   "outputs": [
    {
     "name": "stdout",
     "output_type": "stream",
     "text": [
      "> 1번째 숫자: 100\n",
      "> 2번쨰 숫자: 10\n",
      "\n",
      "처음 입력했던 100.0가 10.0보다 더 큽니다\n"
     ]
    }
   ],
   "source": [
    "a = float(input(\"> 1번째 숫자: \"))\n",
    "b = float(input(\"> 2번쨰 숫자: \"))\n",
    "print()\n",
    "if a > b:\n",
    "    print(\"처음 입력했던 {}가 {}보다 더 큽니다\".format(a,b))\n",
    "if a < b:\n",
    "    print(\"두 번쨰로 입력했던 {}가 {}보다 더 큽니다\".format(b,a))"
   ]
  },
  {
   "cell_type": "code",
   "execution_count": 60,
   "id": "be132fc3",
   "metadata": {},
   "outputs": [
    {
     "name": "stdout",
     "output_type": "stream",
     "text": [
      "정수 입력> 4\n",
      "짝수입니다\n"
     ]
    }
   ],
   "source": [
    "number = input(\"정수 입력> \")\n",
    "number = int(number)\n",
    "if number % 2 == 0:\n",
    "    print(\"짝수입니다\")\n",
    "if number % 2 == 1:\n",
    "    print(\"홀수입니다\")"
   ]
  },
  {
   "cell_type": "code",
   "execution_count": 61,
   "id": "369e491d",
   "metadata": {},
   "outputs": [
    {
     "name": "stdout",
     "output_type": "stream",
     "text": [
      "정수 입력> 659\n",
      "홀수입니다\n"
     ]
    }
   ],
   "source": [
    "number = input(\"정수 입력> \")\n",
    "number = int(number)\n",
    "if number % 2 == 0:\n",
    "    print(\"짝수입니다\")\n",
    "else:\n",
    "    print(\"홀수입니다\")"
   ]
  },
  {
   "cell_type": "code",
   "execution_count": 62,
   "id": "288a40d9",
   "metadata": {},
   "outputs": [
    {
     "name": "stdout",
     "output_type": "stream",
     "text": [
      "현재는 여름입니다\n"
     ]
    }
   ],
   "source": [
    "import datetime\n",
    "now = datetime.datetime.now()\n",
    "month = now.month\n",
    "if 3 <= month <=5:\n",
    "    print(\"현재는 봄이빈다.\")\n",
    "elif 6<= month <= 8:\n",
    "    print(\"현재는 여름입니다\")\n",
    "elif 9<= month <=11:\n",
    "    print(\"현재는 가을입니다\")\n",
    "else:\n",
    "    print(\"현재는 겨울입니다\")"
   ]
  },
  {
   "cell_type": "code",
   "execution_count": 63,
   "id": "392a8603",
   "metadata": {},
   "outputs": [
    {
     "name": "stdout",
     "output_type": "stream",
     "text": [
      "학점 입력> 4.2\n",
      "교수님의 사랑\n"
     ]
    }
   ],
   "source": [
    "score = float(input(\"학점 입력> \"))\n",
    "if score == 4.5:\n",
    "    print(\"신\")\n",
    "elif 4.2 <= score < 4.5:\n",
    "    print(\"교수님의 사랑\")\n",
    "elif 3.5 <= score < 4.2:\n",
    "    print(\"현 체제의 수호자\")\n",
    "elif 2.8 <= score < 3.5:\n",
    "    print(\"일반인\")\n",
    "elif 2.3 <= score < 2.8:\n",
    "    print(\"일탈을 꿈꾸는 소시민\")\n",
    "elif 1.75 <= score < 2.3:\n",
    "    print(\"오락문화의 선구자\")\n",
    "elif 1.0 <= score < 1.75:\n",
    "    print(\"불가촉천민\")\n",
    "elif 0.5 <= score < 1.0:\n",
    "    print(\"자벌레\")\n",
    "elif 0 < score < 0.5:\n",
    "    print(\"플랑크톤\")\n",
    "elif score == 0:\n",
    "    print(\"시대를 앞서가는 혁명의 씨앗\")"
   ]
  },
  {
   "cell_type": "code",
   "execution_count": 64,
   "id": "ddfc0188",
   "metadata": {},
   "outputs": [
    {
     "name": "stdout",
     "output_type": "stream",
     "text": [
      "학점 입력> 4.5\n",
      "신\n"
     ]
    }
   ],
   "source": [
    "score = float(input(\"학점 입력> \"))\n",
    "if score == 4.5:\n",
    "    print(\"신\")\n",
    "elif 4.2 <= score:\n",
    "    print(\"교수님의 사랑\")\n",
    "elif 3.5 <= score:\n",
    "    print(\"현 체제의 수호자\")\n",
    "elif 2.8 <= score:\n",
    "    print(\"일반인\")\n",
    "elif 2.3 <= score:\n",
    "    print(\"일탈을 꿈꾸는 소시민\")\n",
    "elif 1.75 <= score:\n",
    "    print(\"오락문화의 선구자\")\n",
    "elif 1.0 <= score:\n",
    "    print(\"불가촉천민\")\n",
    "elif 0.5 <= score:\n",
    "    print(\"자벌레\")\n",
    "elif 0 < score:\n",
    "    print(\"플랑크톤\")\n",
    "elif score == 0:\n",
    "    print(\"시대를 앞서가는 혁명의 씨앗\")"
   ]
  },
  {
   "cell_type": "code",
   "execution_count": 65,
   "id": "4a699d4a",
   "metadata": {},
   "outputs": [
    {
     "ename": "IndentationError",
     "evalue": "expected an indented block (<ipython-input-65-8688f9a7da38>, line 3)",
     "output_type": "error",
     "traceback": [
      "\u001b[1;36m  File \u001b[1;32m\"<ipython-input-65-8688f9a7da38>\"\u001b[1;36m, line \u001b[1;32m3\u001b[0m\n\u001b[1;33m    else:\u001b[0m\n\u001b[1;37m    ^\u001b[0m\n\u001b[1;31mIndentationError\u001b[0m\u001b[1;31m:\u001b[0m expected an indented block\n"
     ]
    }
   ],
   "source": [
    "if zero == 0:\n",
    "\n",
    "else:"
   ]
  },
  {
   "cell_type": "code",
   "execution_count": 66,
   "id": "c0ca7f22",
   "metadata": {},
   "outputs": [
    {
     "ename": "IndentationError",
     "evalue": "expected an indented block (<ipython-input-66-c5f234c8653c>, line 6)",
     "output_type": "error",
     "traceback": [
      "\u001b[1;36m  File \u001b[1;32m\"<ipython-input-66-c5f234c8653c>\"\u001b[1;36m, line \u001b[1;32m6\u001b[0m\n\u001b[1;33m    else:\u001b[0m\n\u001b[1;37m    ^\u001b[0m\n\u001b[1;31mIndentationError\u001b[0m\u001b[1;31m:\u001b[0m expected an indented block\n"
     ]
    }
   ],
   "source": [
    "number = input(\"정수 입력> \")\n",
    "number = int(number)\n",
    "\n",
    "if number > 0:\n",
    "    #양수일 떄: 아직 미구현 상태입니다.\n",
    "else:\n",
    "    #음수일 때: 아직 미구현 상태입니다."
   ]
  },
  {
   "cell_type": "code",
   "execution_count": 67,
   "id": "3e362736",
   "metadata": {},
   "outputs": [
    {
     "name": "stdout",
     "output_type": "stream",
     "text": [
      "정수 입력> 55\n"
     ]
    }
   ],
   "source": [
    "number = input(\"정수 입력> \")\n",
    "number = int(number)\n",
    "\n",
    "if number > 0:\n",
    "    #양수일 떄: 아직 미구현 상태입니다.\n",
    "    pass\n",
    "else:\n",
    "    #음수일 때: 아직 미구현 상태입니다.\n",
    "    pass"
   ]
  },
  {
   "cell_type": "code",
   "execution_count": 68,
   "id": "63831ac4",
   "metadata": {},
   "outputs": [
    {
     "name": "stdout",
     "output_type": "stream",
     "text": [
      "정수 입력> 65\n"
     ]
    },
    {
     "ename": "NotImplementedError",
     "evalue": "",
     "output_type": "error",
     "traceback": [
      "\u001b[1;31m---------------------------------------------------------------------------\u001b[0m",
      "\u001b[1;31mNotImplementedError\u001b[0m                       Traceback (most recent call last)",
      "\u001b[1;32m<ipython-input-68-345827581752>\u001b[0m in \u001b[0;36m<module>\u001b[1;34m\u001b[0m\n\u001b[0;32m      4\u001b[0m \u001b[1;32mif\u001b[0m \u001b[0mnumber\u001b[0m \u001b[1;33m>\u001b[0m \u001b[1;36m0\u001b[0m\u001b[1;33m:\u001b[0m\u001b[1;33m\u001b[0m\u001b[1;33m\u001b[0m\u001b[0m\n\u001b[0;32m      5\u001b[0m     \u001b[1;31m#양수일 떄: 아직 미구현 상태입니다.\u001b[0m\u001b[1;33m\u001b[0m\u001b[1;33m\u001b[0m\u001b[1;33m\u001b[0m\u001b[0m\n\u001b[1;32m----> 6\u001b[1;33m     \u001b[1;32mraise\u001b[0m \u001b[0mNotImplementedError\u001b[0m\u001b[1;33m\u001b[0m\u001b[1;33m\u001b[0m\u001b[0m\n\u001b[0m\u001b[0;32m      7\u001b[0m \u001b[1;32melse\u001b[0m\u001b[1;33m:\u001b[0m\u001b[1;33m\u001b[0m\u001b[1;33m\u001b[0m\u001b[0m\n\u001b[0;32m      8\u001b[0m     \u001b[1;31m#음수일 때: 아직 미구현 상태입니다.\u001b[0m\u001b[1;33m\u001b[0m\u001b[1;33m\u001b[0m\u001b[1;33m\u001b[0m\u001b[0m\n",
      "\u001b[1;31mNotImplementedError\u001b[0m: "
     ]
    }
   ],
   "source": [
    "number = input(\"정수 입력> \")\n",
    "number = int(number)\n",
    "\n",
    "if number > 0:\n",
    "    #양수일 떄: 아직 미구현 상태입니다.\n",
    "    raise NotImplementedError\n",
    "else:\n",
    "    #음수일 때: 아직 미구현 상태입니다.\n",
    "    raise NotImplementedError"
   ]
  },
  {
   "cell_type": "code",
   "execution_count": 69,
   "id": "cb0171bb",
   "metadata": {},
   "outputs": [
    {
     "name": "stdout",
     "output_type": "stream",
     "text": [
      "100\n"
     ]
    }
   ],
   "source": [
    "x = 10\n",
    "y = 2\n",
    "if x > 4:\n",
    "    if y > 2:\n",
    "        print(x * y)\n",
    "    else:\n",
    "        print(x ** y)\n",
    "else:\n",
    "    print(x + y)"
   ]
  },
  {
   "cell_type": "code",
   "execution_count": 70,
   "id": "e15d0a5d",
   "metadata": {},
   "outputs": [
    {
     "name": "stdout",
     "output_type": "stream",
     "text": [
      "5\n"
     ]
    }
   ],
   "source": [
    "x = 1\n",
    "y = 4\n",
    "if x > 4:\n",
    "    if y > 2:\n",
    "        print(x * y)\n",
    "else:\n",
    "    print(x + y)"
   ]
  },
  {
   "cell_type": "code",
   "execution_count": 71,
   "id": "aac978ab",
   "metadata": {},
   "outputs": [
    {
     "name": "stdout",
     "output_type": "stream",
     "text": [
      "12\n"
     ]
    }
   ],
   "source": [
    "x = 2\n",
    "y = 10\n",
    "if x > 4:\n",
    "    if y > 2:\n",
    "        print(x * y)\n",
    "else:\n",
    "    print(x + y)"
   ]
  },
  {
   "cell_type": "code",
   "execution_count": 72,
   "id": "dd2780b8",
   "metadata": {},
   "outputs": [
    {
     "name": "stdout",
     "output_type": "stream",
     "text": [
      "태어난 해를 입력해 주세요> 1990\n",
      "말 띠입니다.\n"
     ]
    }
   ],
   "source": [
    "str_input = input(\"태어난 해를 입력해 주세요> \")\n",
    "birth_year = int(str_input)\n",
    "if birth_year % 12 == 0:\n",
    "    print(\"원숭이 띠입니다.\")\n",
    "elif birth_year % 12 == 1:\n",
    "    print(\"닭 띠입니다.\")\n",
    "elif birth_year % 12 == 2:\n",
    "    print(\"개 띠입니다\")\n",
    "elif birth_year % 12 == 3:\n",
    "    print(\"돼지 띠입니다\")\n",
    "elif birth_year % 12 == 4:\n",
    "    print(\"쥐 띠이빈다.\")\n",
    "elif birth_year % 12 == 5:\n",
    "    print(\"소 띠입니다.\")\n",
    "elif birth_year % 12 == 6:\n",
    "    print(\"범 띠이빈다.\")\n",
    "elif birth_year % 12 == 7:\n",
    "    print(\"토끼 띠입니다.\")\n",
    "elif birth_year % 12 == 8:\n",
    "    print(\"용 띠입니다\")\n",
    "elif birth_year % 12 == 9:\n",
    "    print(\"뱀 띠입니다.\")\n",
    "elif birth_year % 12 == 10:\n",
    "    print(\"말 띠입니다.\")\n",
    "elif birth_year % 12 == 11:\n",
    "    print(\"양 띠입니다.\")"
   ]
  },
  {
   "cell_type": "code",
   "execution_count": 73,
   "id": "5ad4f334",
   "metadata": {},
   "outputs": [
    {
     "name": "stdout",
     "output_type": "stream",
     "text": [
      "[273, 32, 103, '문자열', True, False]\n"
     ]
    }
   ],
   "source": [
    "array = [273,32, 103, \"문자열\", True, False]\n",
    "print(array)"
   ]
  },
  {
   "cell_type": "code",
   "execution_count": 76,
   "id": "2c2a2108",
   "metadata": {},
   "outputs": [
    {
     "data": {
      "text/plain": [
       "[1, 2, 3, 4]"
      ]
     },
     "execution_count": 76,
     "metadata": {},
     "output_type": "execute_result"
    }
   ],
   "source": [
    "[1, 2, 3, 4]"
   ]
  },
  {
   "cell_type": "code",
   "execution_count": 77,
   "id": "4557ed2e",
   "metadata": {},
   "outputs": [
    {
     "data": {
      "text/plain": [
       "['안', '녕', '하', '세', '요']"
      ]
     },
     "execution_count": 77,
     "metadata": {},
     "output_type": "execute_result"
    }
   ],
   "source": [
    "[\"안\", \"녕\", \"하\", \"세\", \"요\"]"
   ]
  },
  {
   "cell_type": "code",
   "execution_count": 78,
   "id": "6966dec6",
   "metadata": {},
   "outputs": [],
   "source": [
    "list_a = [[1, 2, 3], [4, 5, 6], [7, 8, 9]]"
   ]
  },
  {
   "cell_type": "code",
   "execution_count": 80,
   "id": "44f8973b",
   "metadata": {},
   "outputs": [
    {
     "data": {
      "text/plain": [
       "9"
      ]
     },
     "execution_count": 80,
     "metadata": {},
     "output_type": "execute_result"
    }
   ],
   "source": [
    "list_a[2][2]"
   ]
  },
  {
   "cell_type": "code",
   "execution_count": 81,
   "id": "32b32ec7",
   "metadata": {},
   "outputs": [
    {
     "name": "stdout",
     "output_type": "stream",
     "text": [
      "# 리스트\n",
      "list_a = [1, 2, 3]\n",
      "list_b = [4, 5, 6]\n"
     ]
    }
   ],
   "source": [
    "list_a = [1, 2, 3]\n",
    "list_b = [4, 5, 6]\n",
    "\n",
    "print(\"# 리스트\")\n",
    "print(\"list_a =\",list_a)\n",
    "print(\"list_b =\",list_b)"
   ]
  },
  {
   "cell_type": "code",
   "execution_count": 82,
   "id": "916b49e2",
   "metadata": {},
   "outputs": [
    {
     "name": "stdout",
     "output_type": "stream",
     "text": [
      "# 리스트 기본연산자\n",
      "list_a + list_b = [1, 2, 3, 4, 5, 6]\n",
      "list_a * 3 = [1, 2, 3, 1, 2, 3, 1, 2, 3]\n"
     ]
    }
   ],
   "source": [
    "print(\"# 리스트 기본연산자\")\n",
    "print(\"list_a + list_b =\",list_a + list_b)\n",
    "print(\"list_a * 3 =\", list_a * 3)"
   ]
  },
  {
   "cell_type": "code",
   "execution_count": 83,
   "id": "377d6fc3",
   "metadata": {},
   "outputs": [
    {
     "name": "stdout",
     "output_type": "stream",
     "text": [
      "3\n"
     ]
    }
   ],
   "source": [
    "print(len(list_a))"
   ]
  },
  {
   "cell_type": "code",
   "execution_count": 84,
   "id": "1ebdde5e",
   "metadata": {},
   "outputs": [
    {
     "name": "stdout",
     "output_type": "stream",
     "text": [
      "[1, 2, 3, 4, 5]\n",
      "\n",
      "#리스트 중간에 요소 추가하기\n",
      "[1, 1994, 2, 3, 4, 5]\n"
     ]
    }
   ],
   "source": [
    "list_a.append(4)\n",
    "list_a.append(5)\n",
    "print(list_a)\n",
    "print()\n",
    "\n",
    "print(\"#리스트 중간에 요소 추가하기\")\n",
    "list_a.insert(1,1994)\n",
    "print(list_a)"
   ]
  },
  {
   "cell_type": "code",
   "execution_count": 85,
   "id": "6a5fb7ed",
   "metadata": {},
   "outputs": [],
   "source": [
    "list_a.extend([7, 8, 9])"
   ]
  },
  {
   "cell_type": "code",
   "execution_count": 86,
   "id": "f6b7195c",
   "metadata": {},
   "outputs": [
    {
     "name": "stdout",
     "output_type": "stream",
     "text": [
      "[1, 1994, 2, 3, 4, 5, 7, 8, 9]\n"
     ]
    }
   ],
   "source": [
    "print(list_a)"
   ]
  },
  {
   "cell_type": "code",
   "execution_count": 87,
   "id": "f222a057",
   "metadata": {},
   "outputs": [
    {
     "data": {
      "text/plain": [
       "[1, 1994, 2, 3, 4, 5, 7, 8, 9]"
      ]
     },
     "execution_count": 87,
     "metadata": {},
     "output_type": "execute_result"
    }
   ],
   "source": [
    "list_a"
   ]
  },
  {
   "cell_type": "code",
   "execution_count": 88,
   "id": "f3553330",
   "metadata": {},
   "outputs": [
    {
     "name": "stdout",
     "output_type": "stream",
     "text": [
      "[1, 1994, 2, 3, 4, 5, 7, 8, 9]\n"
     ]
    }
   ],
   "source": [
    "print(list_a)"
   ]
  },
  {
   "cell_type": "code",
   "execution_count": 89,
   "id": "523de1d5",
   "metadata": {},
   "outputs": [
    {
     "data": {
      "text/plain": [
       "[1, 1994, 2, 3, 4, 5, 7, 8, 9, 10, 11, 12]"
      ]
     },
     "execution_count": 89,
     "metadata": {},
     "output_type": "execute_result"
    }
   ],
   "source": [
    "list_a.extend([10, 11, 12])\n",
    "list_a"
   ]
  },
  {
   "cell_type": "code",
   "execution_count": 90,
   "id": "3c149d2e",
   "metadata": {},
   "outputs": [
    {
     "data": {
      "text/plain": [
       "[1, 2, 3, 4, 5, 6]"
      ]
     },
     "execution_count": 90,
     "metadata": {},
     "output_type": "execute_result"
    }
   ],
   "source": [
    "list_a = [1, 2, 3]\n",
    "list_b = [4, 5, 6]\n",
    "list_a.extend(list_b)\n",
    "list_a"
   ]
  },
  {
   "cell_type": "code",
   "execution_count": 91,
   "id": "140b7bc2",
   "metadata": {},
   "outputs": [
    {
     "data": {
      "text/plain": [
       "[1, 2, 3, 4, 5, 6]"
      ]
     },
     "execution_count": 91,
     "metadata": {},
     "output_type": "execute_result"
    }
   ],
   "source": [
    "list_a"
   ]
  },
  {
   "cell_type": "code",
   "execution_count": 92,
   "id": "c6e357f3",
   "metadata": {},
   "outputs": [
    {
     "data": {
      "text/plain": [
       "[4, 5, 6]"
      ]
     },
     "execution_count": 92,
     "metadata": {},
     "output_type": "execute_result"
    }
   ],
   "source": [
    "list_b"
   ]
  },
  {
   "cell_type": "code",
   "execution_count": 93,
   "id": "d489e4cd",
   "metadata": {},
   "outputs": [],
   "source": [
    "del list_a[0]"
   ]
  },
  {
   "cell_type": "code",
   "execution_count": 94,
   "id": "903495ba",
   "metadata": {},
   "outputs": [
    {
     "name": "stdout",
     "output_type": "stream",
     "text": [
      "[2, 3, 4, 5, 6]\n"
     ]
    }
   ],
   "source": [
    "print(list_a)"
   ]
  },
  {
   "cell_type": "code",
   "execution_count": 95,
   "id": "3b82aca5",
   "metadata": {},
   "outputs": [
    {
     "data": {
      "text/plain": [
       "2"
      ]
     },
     "execution_count": 95,
     "metadata": {},
     "output_type": "execute_result"
    }
   ],
   "source": [
    "list_a.pop(0)"
   ]
  },
  {
   "cell_type": "code",
   "execution_count": 96,
   "id": "347bb520",
   "metadata": {},
   "outputs": [
    {
     "data": {
      "text/plain": [
       "[3, 4, 5, 6]"
      ]
     },
     "execution_count": 96,
     "metadata": {},
     "output_type": "execute_result"
    }
   ],
   "source": [
    "list_a"
   ]
  },
  {
   "cell_type": "code",
   "execution_count": 97,
   "id": "768cbe58",
   "metadata": {},
   "outputs": [
    {
     "data": {
      "text/plain": [
       "6"
      ]
     },
     "execution_count": 97,
     "metadata": {},
     "output_type": "execute_result"
    }
   ],
   "source": [
    "list_a.pop()"
   ]
  },
  {
   "cell_type": "code",
   "execution_count": 98,
   "id": "a2b250f8",
   "metadata": {},
   "outputs": [
    {
     "data": {
      "text/plain": [
       "[3, 4, 5]"
      ]
     },
     "execution_count": 98,
     "metadata": {},
     "output_type": "execute_result"
    }
   ],
   "source": [
    "list_a"
   ]
  },
  {
   "cell_type": "code",
   "execution_count": 99,
   "id": "d9465e5c",
   "metadata": {},
   "outputs": [],
   "source": [
    "list_a = [0, 1, 2, 3, 4, 5, 60]\n",
    "del list_a[3:7]"
   ]
  },
  {
   "cell_type": "code",
   "execution_count": 100,
   "id": "e860f03d",
   "metadata": {},
   "outputs": [
    {
     "data": {
      "text/plain": [
       "[0, 1, 2]"
      ]
     },
     "execution_count": 100,
     "metadata": {},
     "output_type": "execute_result"
    }
   ],
   "source": [
    "list_a"
   ]
  },
  {
   "cell_type": "code",
   "execution_count": 102,
   "id": "64de88ce",
   "metadata": {},
   "outputs": [
    {
     "name": "stdout",
     "output_type": "stream",
     "text": [
      "취업\n",
      "취업\n",
      "취업\n",
      "취업\n",
      "취업\n",
      "취업\n",
      "취업\n",
      "취업\n",
      "취업\n",
      "취업\n",
      "취업\n",
      "취업\n",
      "취업\n",
      "취업\n",
      "취업\n",
      "취업\n",
      "취업\n",
      "취업\n",
      "취업\n",
      "취업\n",
      "취업\n",
      "취업\n",
      "취업\n",
      "취업\n",
      "취업\n",
      "취업\n",
      "취업\n",
      "취업\n",
      "취업\n",
      "취업\n",
      "취업\n",
      "취업\n",
      "취업\n",
      "취업\n",
      "취업\n",
      "취업\n",
      "취업\n",
      "취업\n",
      "취업\n",
      "취업\n",
      "취업\n",
      "취업\n",
      "취업\n",
      "취업\n",
      "취업\n",
      "취업\n",
      "취업\n",
      "취업\n",
      "취업\n",
      "취업\n",
      "취업\n",
      "취업\n",
      "취업\n",
      "취업\n",
      "취업\n",
      "취업\n",
      "취업\n",
      "취업\n",
      "취업\n",
      "취업\n",
      "취업\n",
      "취업\n",
      "취업\n",
      "취업\n",
      "취업\n",
      "취업\n",
      "취업\n",
      "취업\n",
      "취업\n",
      "취업\n",
      "취업\n",
      "취업\n",
      "취업\n",
      "취업\n",
      "취업\n",
      "취업\n",
      "취업\n",
      "취업\n",
      "취업\n",
      "취업\n",
      "취업\n",
      "취업\n",
      "취업\n",
      "취업\n",
      "취업\n",
      "취업\n",
      "취업\n",
      "취업\n",
      "취업\n",
      "취업\n",
      "취업\n",
      "취업\n",
      "취업\n",
      "취업\n",
      "취업\n",
      "취업\n",
      "취업\n",
      "취업\n",
      "취업\n",
      "취업\n"
     ]
    }
   ],
   "source": [
    "for i in range(100):\n",
    "    print(\"취업\")"
   ]
  },
  {
   "cell_type": "code",
   "execution_count": 103,
   "id": "14805d08",
   "metadata": {},
   "outputs": [
    {
     "name": "stdout",
     "output_type": "stream",
     "text": [
      "취업\n",
      "취업\n",
      "취업\n",
      "취업\n",
      "취업\n"
     ]
    }
   ],
   "source": [
    "array = [1, 2, 3, 4, 5]\n",
    "for i in array:\n",
    "    print(\"취업\")"
   ]
  },
  {
   "cell_type": "code",
   "execution_count": 104,
   "id": "03712913",
   "metadata": {},
   "outputs": [
    {
     "name": "stdout",
     "output_type": "stream",
     "text": [
      "1\n",
      "2\n",
      "3\n",
      "4\n",
      "5\n"
     ]
    }
   ],
   "source": [
    "for elemnet in array:\n",
    "    print(elemnet)"
   ]
  },
  {
   "cell_type": "code",
   "execution_count": 105,
   "id": "e9bc5352",
   "metadata": {},
   "outputs": [
    {
     "name": "stdout",
     "output_type": "stream",
     "text": [
      "- 1\n",
      "- 2\n",
      "- 3\n",
      "- 4\n",
      "- 5\n"
     ]
    }
   ],
   "source": [
    "for char in array:\n",
    "    print(\"-\", char)"
   ]
  },
  {
   "cell_type": "markdown",
   "id": "f319397b",
   "metadata": {},
   "source": [
    "# 04-1장 확인문제"
   ]
  },
  {
   "cell_type": "code",
   "execution_count": 106,
   "id": "95043590",
   "metadata": {},
   "outputs": [],
   "source": [
    "list_a = [0, 1, 2, 3, 4, 5, 6, 7]"
   ]
  },
  {
   "cell_type": "code",
   "execution_count": 107,
   "id": "5a568d7d",
   "metadata": {},
   "outputs": [],
   "source": [
    "list_a.remove(3)"
   ]
  },
  {
   "cell_type": "code",
   "execution_count": 108,
   "id": "c34f56a0",
   "metadata": {},
   "outputs": [
    {
     "data": {
      "text/plain": [
       "[0, 1, 2, 4, 5, 6, 7]"
      ]
     },
     "execution_count": 108,
     "metadata": {},
     "output_type": "execute_result"
    }
   ],
   "source": [
    "list_a"
   ]
  },
  {
   "cell_type": "code",
   "execution_count": 109,
   "id": "65e8c7a6",
   "metadata": {},
   "outputs": [
    {
     "data": {
      "text/plain": [
       "4"
      ]
     },
     "execution_count": 109,
     "metadata": {},
     "output_type": "execute_result"
    }
   ],
   "source": [
    "list_a.pop(3)"
   ]
  },
  {
   "cell_type": "code",
   "execution_count": 110,
   "id": "8a5a45ef",
   "metadata": {},
   "outputs": [],
   "source": [
    "list_a.insert(3,3)"
   ]
  },
  {
   "cell_type": "code",
   "execution_count": 111,
   "id": "aaef2a34",
   "metadata": {},
   "outputs": [
    {
     "data": {
      "text/plain": [
       "[0, 1, 2, 3, 5, 6, 7]"
      ]
     },
     "execution_count": 111,
     "metadata": {},
     "output_type": "execute_result"
    }
   ],
   "source": [
    "list_a"
   ]
  },
  {
   "cell_type": "code",
   "execution_count": 112,
   "id": "d239dc47",
   "metadata": {},
   "outputs": [
    {
     "data": {
      "text/plain": [
       "6"
      ]
     },
     "execution_count": 112,
     "metadata": {},
     "output_type": "execute_result"
    }
   ],
   "source": [
    "list_a.pop(5)"
   ]
  },
  {
   "cell_type": "code",
   "execution_count": 113,
   "id": "58e5b893",
   "metadata": {},
   "outputs": [
    {
     "data": {
      "text/plain": [
       "[0, 1, 2, 3, 5, 7]"
      ]
     },
     "execution_count": 113,
     "metadata": {},
     "output_type": "execute_result"
    }
   ],
   "source": [
    "list_a"
   ]
  },
  {
   "cell_type": "code",
   "execution_count": 114,
   "id": "e9965348",
   "metadata": {},
   "outputs": [
    {
     "name": "stdout",
     "output_type": "stream",
     "text": [
      "- 100이상의 수: 273\n",
      "- 100이상의 수: 103\n",
      "- 100이상의 수: 800\n"
     ]
    }
   ],
   "source": [
    "numbers = [273, 103, 5, 32, 65, 9, 72, 800, 99]\n",
    "for number in numbers:\n",
    "    if number >= 100:\n",
    "        print(\"- 100이상의 수:\", number)"
   ]
  },
  {
   "cell_type": "code",
   "execution_count": 115,
   "id": "46864b76",
   "metadata": {},
   "outputs": [
    {
     "name": "stdout",
     "output_type": "stream",
     "text": [
      "273 는 홀수입니다.\n",
      "103 는 홀수입니다.\n",
      "5 는 홀수입니다.\n",
      "32 는 짝수입니다.\n",
      "65 는 홀수입니다.\n",
      "9 는 홀수입니다.\n",
      "72 는 짝수입니다.\n",
      "800 는 짝수입니다.\n",
      "99 는 홀수입니다.\n"
     ]
    }
   ],
   "source": [
    "for number in numbers:\n",
    "    if number % 2 == 0:\n",
    "        print(\"{} 는 짝수입니다.\".format(number))\n",
    "    else:\n",
    "        print(\"{} 는 홀수입니다.\".format(number))"
   ]
  },
  {
   "cell_type": "code",
   "execution_count": 116,
   "id": "46a26284",
   "metadata": {},
   "outputs": [
    {
     "name": "stdout",
     "output_type": "stream",
     "text": [
      "273 는 3 자릿수입니다.\n",
      "103 는 3 자릿수입니다.\n",
      "5 는 1 자릿수입니다.\n",
      "32 는 2 자릿수입니다.\n",
      "65 는 2 자릿수입니다.\n",
      "9 는 1 자릿수입니다.\n",
      "72 는 2 자릿수입니다.\n",
      "800 는 3 자릿수입니다.\n",
      "99 는 2 자릿수입니다.\n"
     ]
    }
   ],
   "source": [
    "for number in numbers:\n",
    "    print(number, \"는\", len(str(number)), \"자릿수입니다.\")"
   ]
  },
  {
   "cell_type": "code",
   "execution_count": 117,
   "id": "f35a21f3",
   "metadata": {},
   "outputs": [
    {
     "name": "stdout",
     "output_type": "stream",
     "text": [
      "1\n",
      "2\n",
      "3\n",
      "4\n",
      "5\n",
      "6\n",
      "7\n",
      "8\n",
      "9\n"
     ]
    }
   ],
   "source": [
    "list_of_list = [[1, 2, 3], [4, 5, 6, 7], [8, 9]]\n",
    "for lists in list_of_list:\n",
    "    for element in lists:\n",
    "        print(element)"
   ]
  },
  {
   "cell_type": "code",
   "execution_count": 118,
   "id": "be7ef541",
   "metadata": {},
   "outputs": [],
   "source": [
    "numbers = [1, 2, 3, 4, 5, 6, 7 ,8 ,9]\n",
    "output = [[], [], []]\n",
    "for number in numbers:\n",
    "    output[(number+2) % 3 ].append(number)"
   ]
  },
  {
   "cell_type": "code",
   "execution_count": 119,
   "id": "27fee97f",
   "metadata": {},
   "outputs": [
    {
     "name": "stdout",
     "output_type": "stream",
     "text": [
      "[[1, 4, 7], [2, 5, 8], [3, 6, 9]]\n"
     ]
    }
   ],
   "source": [
    "print(output)"
   ]
  },
  {
   "cell_type": "code",
   "execution_count": 120,
   "id": "cba11485",
   "metadata": {},
   "outputs": [],
   "source": [
    "dict_a = {\n",
    "    \"name\": \"어벤져스 엔드게임\",\n",
    "    \"type\": \"히어로 무비\"\n",
    "     }"
   ]
  },
  {
   "cell_type": "code",
   "execution_count": 121,
   "id": "c3f2d596",
   "metadata": {},
   "outputs": [
    {
     "data": {
      "text/plain": [
       "{'name': '어벤져스 엔드게임', 'type': '히어로 무비'}"
      ]
     },
     "execution_count": 121,
     "metadata": {},
     "output_type": "execute_result"
    }
   ],
   "source": [
    "dict_a"
   ]
  },
  {
   "cell_type": "code",
   "execution_count": 122,
   "id": "5583a021",
   "metadata": {},
   "outputs": [
    {
     "data": {
      "text/plain": [
       "'어벤져스 엔드게임'"
      ]
     },
     "execution_count": 122,
     "metadata": {},
     "output_type": "execute_result"
    }
   ],
   "source": [
    "dict_a[\"name\"]"
   ]
  },
  {
   "cell_type": "code",
   "execution_count": 123,
   "id": "31a4a7da",
   "metadata": {},
   "outputs": [
    {
     "data": {
      "text/plain": [
       "'히어로 무비'"
      ]
     },
     "execution_count": 123,
     "metadata": {},
     "output_type": "execute_result"
    }
   ],
   "source": [
    "dict_a[\"type\"]"
   ]
  },
  {
   "cell_type": "code",
   "execution_count": 124,
   "id": "da6562da",
   "metadata": {},
   "outputs": [],
   "source": [
    "dict_b = {\n",
    "    \"director\":[\"안토니 루소\", \"조 루소\"],\n",
    "    \"cast\": [\"아이언맨\", \"헐크\", \"타노스\", \"닥터스트레인지\", \"토르\"]\n",
    "}"
   ]
  },
  {
   "cell_type": "code",
   "execution_count": 125,
   "id": "20bf97b6",
   "metadata": {},
   "outputs": [
    {
     "data": {
      "text/plain": [
       "{'director': ['안토니 루소', '조 루소'],\n",
       " 'cast': ['아이언맨', '헐크', '타노스', '닥터스트레인지', '토르']}"
      ]
     },
     "execution_count": 125,
     "metadata": {},
     "output_type": "execute_result"
    }
   ],
   "source": [
    "dict_b"
   ]
  },
  {
   "cell_type": "code",
   "execution_count": 126,
   "id": "27ea9e6b",
   "metadata": {},
   "outputs": [
    {
     "data": {
      "text/plain": [
       "['안토니 루소', '조 루소']"
      ]
     },
     "execution_count": 126,
     "metadata": {},
     "output_type": "execute_result"
    }
   ],
   "source": [
    "dict_b[\"director\"]"
   ]
  },
  {
   "cell_type": "code",
   "execution_count": 127,
   "id": "be37b69e",
   "metadata": {},
   "outputs": [
    {
     "data": {
      "text/plain": [
       "'조 루소'"
      ]
     },
     "execution_count": 127,
     "metadata": {},
     "output_type": "execute_result"
    }
   ],
   "source": [
    "dict_b[\"director\"][1]"
   ]
  },
  {
   "cell_type": "code",
   "execution_count": 128,
   "id": "b95764a2",
   "metadata": {},
   "outputs": [
    {
     "name": "stdout",
     "output_type": "stream",
     "text": [
      "name: 7D 건조망고\n",
      "type: 당절임\n",
      "ingredient: ['망고', '설탕', '메타중아황사나트륨', '치자황색소']\n",
      "origin: 필리핀\n"
     ]
    }
   ],
   "source": [
    "dictionary = {\n",
    "    \"name\": \"7D 건조망고\",\n",
    "    \"type\": \"당절임\",\n",
    "    \"ingredient\": [\"망고\", \"설탕\", \"메타중아황사나트륨\", \"치자황색소\"],\n",
    "    \"origin\": \"필리핀\"\n",
    "}\n",
    "print(\"name:\", dictionary[\"name\"])\n",
    "print(\"type:\", dictionary[\"type\"])\n",
    "print(\"ingredient:\", dictionary[\"ingredient\"])\n",
    "print(\"origin:\", dictionary[\"origin\"])"
   ]
  },
  {
   "cell_type": "code",
   "execution_count": 129,
   "id": "2f6d679d",
   "metadata": {},
   "outputs": [
    {
     "name": "stdout",
     "output_type": "stream",
     "text": [
      "name: 7D 건조망고\n",
      "type: 당절임\n",
      "ingredient: ['망고', '설탕', '메타중아황사나트륨', '치자황색소']\n",
      "origin: 필리핀\n",
      "8D 건조망고\n"
     ]
    }
   ],
   "source": [
    "dictionary = {\n",
    "    \"name\": \"7D 건조망고\",\n",
    "    \"type\": \"당절임\",\n",
    "    \"ingredient\": [\"망고\", \"설탕\", \"메타중아황사나트륨\", \"치자황색소\"],\n",
    "    \"origin\": \"필리핀\"\n",
    "}\n",
    "print(\"name:\", dictionary[\"name\"])\n",
    "print(\"type:\", dictionary[\"type\"])\n",
    "print(\"ingredient:\", dictionary[\"ingredient\"])\n",
    "print(\"origin:\", dictionary[\"origin\"])\n",
    "dictionary[\"name\"] = \"8D 건조망고\"\n",
    "print(dictionary[\"name\"])"
   ]
  },
  {
   "cell_type": "code",
   "execution_count": 130,
   "id": "d0cd0284",
   "metadata": {},
   "outputs": [
    {
     "data": {
      "text/plain": [
       "'메타중아황사나트륨'"
      ]
     },
     "execution_count": 130,
     "metadata": {},
     "output_type": "execute_result"
    }
   ],
   "source": [
    "dictionary[\"ingredient\"][2]"
   ]
  },
  {
   "cell_type": "code",
   "execution_count": 131,
   "id": "913a0a20",
   "metadata": {},
   "outputs": [],
   "source": [
    "dictionary[\"ingredient\"][2] = \"아말감\""
   ]
  },
  {
   "cell_type": "code",
   "execution_count": 132,
   "id": "1a180462",
   "metadata": {},
   "outputs": [
    {
     "data": {
      "text/plain": [
       "'아말감'"
      ]
     },
     "execution_count": 132,
     "metadata": {},
     "output_type": "execute_result"
    }
   ],
   "source": [
    "dictionary[\"ingredient\"][2]"
   ]
  },
  {
   "cell_type": "code",
   "execution_count": 133,
   "id": "c8d1529d",
   "metadata": {},
   "outputs": [],
   "source": [
    "dictionary[\"price\"] = 5000"
   ]
  },
  {
   "cell_type": "code",
   "execution_count": 134,
   "id": "5eb4e511",
   "metadata": {},
   "outputs": [
    {
     "data": {
      "text/plain": [
       "{'name': '8D 건조망고',\n",
       " 'type': '당절임',\n",
       " 'ingredient': ['망고', '설탕', '아말감', '치자황색소'],\n",
       " 'origin': '필리핀',\n",
       " 'price': 5000}"
      ]
     },
     "execution_count": 134,
     "metadata": {},
     "output_type": "execute_result"
    }
   ],
   "source": [
    "dictionary"
   ]
  },
  {
   "cell_type": "code",
   "execution_count": 135,
   "id": "386a5a2d",
   "metadata": {},
   "outputs": [],
   "source": [
    "del dictionary[\"price\"]"
   ]
  },
  {
   "cell_type": "code",
   "execution_count": 136,
   "id": "66522486",
   "metadata": {},
   "outputs": [
    {
     "data": {
      "text/plain": [
       "{'name': '8D 건조망고',\n",
       " 'type': '당절임',\n",
       " 'ingredient': ['망고', '설탕', '아말감', '치자황색소'],\n",
       " 'origin': '필리핀'}"
      ]
     },
     "execution_count": 136,
     "metadata": {},
     "output_type": "execute_result"
    }
   ],
   "source": [
    "dictionary"
   ]
  },
  {
   "cell_type": "code",
   "execution_count": 137,
   "id": "0ab01dd5",
   "metadata": {},
   "outputs": [
    {
     "name": "stdout",
     "output_type": "stream",
     "text": [
      "요소 추가 이전: {}\n",
      "요소 추가 이후: {'name': '이름', 'mind': '정신', 'body': '육체'}\n"
     ]
    }
   ],
   "source": [
    "dictionary = {}\n",
    "\n",
    "print(\"요소 추가 이전:\", dictionary)\n",
    "\n",
    "dictionary[\"name\"] = \"이름\"\n",
    "dictionary[\"mind\"] = \"정신\"\n",
    "dictionary[\"body\"] = \"육체\"\n",
    "\n",
    "print(\"요소 추가 이후:\", dictionary)"
   ]
  },
  {
   "cell_type": "code",
   "execution_count": 138,
   "id": "35ed49ff",
   "metadata": {},
   "outputs": [
    {
     "name": "stdout",
     "output_type": "stream",
     "text": [
      "요소 제거 이전: {'name': '7D 건조망고', 'type': '당절임'}\n",
      "요소 제거 이후: {}\n"
     ]
    }
   ],
   "source": [
    "dictionary = {\n",
    "    \"name\": \"7D 건조망고\",\n",
    "    \"type\": \"당절임\"\n",
    "    }\n",
    "print(\"요소 제거 이전:\", dictionary)\n",
    "\n",
    "del dictionary[\"name\"]\n",
    "del dictionary[\"type\"]\n",
    "\n",
    "print(\"요소 제거 이후:\", dictionary)"
   ]
  },
  {
   "cell_type": "code",
   "execution_count": 141,
   "id": "656b11ad",
   "metadata": {},
   "outputs": [
    {
     "name": "stdout",
     "output_type": "stream",
     "text": [
      "> 접근하고자 하는 키name\n",
      "7D 건조망고\n"
     ]
    }
   ],
   "source": [
    "dictionary = {\n",
    "    \"name\": \"7D 건조망고\",\n",
    "    \"type\": \"당절임\",\n",
    "    \"ingredient\": [\"망고\", \"설탕\", \"메타중아황사나트륨\", \"치자황색소\"],\n",
    "    \"origin\": \"필리핀\"\n",
    "}\n",
    "\n",
    "key = input(\"> 접근하고자 하는 키\")\n",
    "\n",
    "if key in dictionary:\n",
    "    print(dictionary[key])\n",
    "else:\n",
    "    print(\"존재하지 않는 키에 접근하고 있습니다.\")"
   ]
  },
  {
   "cell_type": "code",
   "execution_count": 142,
   "id": "14cacc53",
   "metadata": {},
   "outputs": [
    {
     "name": "stdout",
     "output_type": "stream",
     "text": [
      "값:  None\n",
      "존재하지 않는 키에 접근했습니다\n"
     ]
    }
   ],
   "source": [
    "dictionary = {\n",
    "    \"name\": \"7D 건조망고\",\n",
    "    \"type\": \"당절임\",\n",
    "    \"ingredient\": [\"망고\", \"설탕\", \"메타중아황사나트륨\", \"치자황색소\"],\n",
    "    \"origin\": \"필리핀\"\n",
    "}\n",
    "\n",
    "value = dictionary.get(\"존재하지 않는 키\")\n",
    "print(\"값: \", value)\n",
    "\n",
    "if value == None:\n",
    "    print(\"존재하지 않는 키에 접근했습니다\")"
   ]
  },
  {
   "cell_type": "code",
   "execution_count": 143,
   "id": "90ac342a",
   "metadata": {},
   "outputs": [
    {
     "name": "stdout",
     "output_type": "stream",
     "text": [
      "name : 7D 건조망고\n",
      "type : 당절임\n",
      "ingredient : ['망고', '설탕', '메타중아황사나트륨', '치자황색소']\n",
      "origin : 필리핀\n"
     ]
    }
   ],
   "source": [
    "dictionary = {\n",
    "    \"name\": \"7D 건조망고\",\n",
    "    \"type\": \"당절임\",\n",
    "    \"ingredient\": [\"망고\", \"설탕\", \"메타중아황사나트륨\", \"치자황색소\"],\n",
    "    \"origin\": \"필리핀\"\n",
    "}\n",
    "\n",
    "for key in dictionary:\n",
    "    print(key,\":\", dictionary[key])"
   ]
  },
  {
   "cell_type": "markdown",
   "id": "1637b8ac",
   "metadata": {},
   "source": [
    "# 04-2장 확인문제"
   ]
  },
  {
   "cell_type": "code",
   "execution_count": 144,
   "id": "0fe8a014",
   "metadata": {},
   "outputs": [
    {
     "data": {
      "text/plain": [
       "{'name': '구름'}"
      ]
     },
     "execution_count": 144,
     "metadata": {},
     "output_type": "execute_result"
    }
   ],
   "source": [
    "dict_a = {}\n",
    "\n",
    "dict_a[\"name\"] = \"구름\"\n",
    "\n",
    "dict_a"
   ]
  },
  {
   "cell_type": "code",
   "execution_count": 145,
   "id": "77c35a30",
   "metadata": {},
   "outputs": [
    {
     "data": {
      "text/plain": [
       "{}"
      ]
     },
     "execution_count": 145,
     "metadata": {},
     "output_type": "execute_result"
    }
   ],
   "source": [
    "del dict_a[\"name\"]\n",
    "dict_a"
   ]
  },
  {
   "cell_type": "code",
   "execution_count": 146,
   "id": "1a02970f",
   "metadata": {},
   "outputs": [
    {
     "name": "stdout",
     "output_type": "stream",
     "text": [
      "#우리 동네 애완동물들\n",
      "구름 5살\n",
      "초코 3살\n",
      "아지 1살\n",
      "호랑이 1살\n"
     ]
    }
   ],
   "source": [
    "pets = [\n",
    "    {\"name\": \"구름\", \"age\": 5},\n",
    "    {\"name\": \"초코\", \"age\": 3},\n",
    "    {\"name\": \"아지\", \"age\": 1},\n",
    "    {\"name\": \"호랑이\", \"age\": 1}\n",
    "]\n",
    "print(\"#우리 동네 애완동물들\")\n",
    "\n",
    "for pet in pets:\n",
    "    print(pet[\"name\"], str(pet[\"age\"]) + \"살\")"
   ]
  },
  {
   "cell_type": "code",
   "execution_count": 147,
   "id": "14865666",
   "metadata": {},
   "outputs": [
    {
     "name": "stdout",
     "output_type": "stream",
     "text": [
      "{1: 3, 2: 4, 6: 1, 8: 2, 4: 3, 3: 3, 9: 3, 5: 2, 7: 2}\n"
     ]
    }
   ],
   "source": [
    "numbers = [1,2,6,8,4,3,2,1,9,5,4,9,7,2,1,3,5,4,8,9,7,2,3]\n",
    "counter = {}\n",
    "for number in numbers:\n",
    "    if number in counter:\n",
    "        counter[number] = counter[number] + 1\n",
    "    else:\n",
    "        counter[number] = 1\n",
    "print(counter)"
   ]
  },
  {
   "cell_type": "code",
   "execution_count": 148,
   "id": "c47dc3fb",
   "metadata": {},
   "outputs": [
    {
     "name": "stdout",
     "output_type": "stream",
     "text": [
      "name : 기사\n",
      "level : 12\n",
      "sword : 불꽃의 검\n",
      "armor : 풀풀레이트\n",
      "skill : 베기\n",
      "skill : 세게 베기\n",
      "skill : 아주 세게 베기\n"
     ]
    }
   ],
   "source": [
    "char = {\n",
    "    \"name\": \"기사\",\n",
    "    \"level\": 12,\n",
    "    \"items\": {\n",
    "        \"sword\": \"불꽃의 검\",\n",
    "        \"armor\": \"풀풀레이트\"\n",
    "    },\n",
    "    \"skill\": [\"베기\", \"세게 베기\", \"아주 세게 베기\"]\n",
    "}\n",
    "for key in char:\n",
    "    if type(char[key]) is list:\n",
    "        for skill in char[key]:\n",
    "            print(key,\":\", skill)\n",
    "    elif type(char[key]) is dict:\n",
    "        for item in char[key]:\n",
    "            print(item,\":\", char[key][item])\n",
    "    else:\n",
    "        print(key,\":\",char[key])"
   ]
  },
  {
   "cell_type": "code",
   "execution_count": null,
   "id": "d60ccf36",
   "metadata": {},
   "outputs": [],
   "source": []
  }
 ],
 "metadata": {
  "kernelspec": {
   "display_name": "Python 3",
   "language": "python",
   "name": "python3"
  },
  "language_info": {
   "codemirror_mode": {
    "name": "ipython",
    "version": 3
   },
   "file_extension": ".py",
   "mimetype": "text/x-python",
   "name": "python",
   "nbconvert_exporter": "python",
   "pygments_lexer": "ipython3",
   "version": "3.8.8"
  }
 },
 "nbformat": 4,
 "nbformat_minor": 5
}
